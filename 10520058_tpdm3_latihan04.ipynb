{
 "cells": [
  {
   "cell_type": "code",
   "execution_count": 30,
   "outputs": [],
   "source": [
    "# Author: Irshal Firdeansyah\n",
    "# Github: github.com/irlfdyh"
   ],
   "metadata": {
    "collapsed": false,
    "ExecuteTime": {
     "end_time": "2023-10-24T09:57:12.595438329Z",
     "start_time": "2023-10-24T09:57:12.503415715Z"
    }
   },
   "id": "fa415b8807aaca88"
  },
  {
   "cell_type": "code",
   "execution_count": 31,
   "outputs": [],
   "source": [
    "import pandas as pd\n",
    "\n",
    "data = pd.read_csv('dataset/spam.csv', encoding='latin-1')"
   ],
   "metadata": {
    "collapsed": false,
    "ExecuteTime": {
     "end_time": "2023-10-24T09:57:12.595850144Z",
     "start_time": "2023-10-24T09:57:12.543120062Z"
    }
   },
   "id": "initial_id"
  },
  {
   "cell_type": "code",
   "execution_count": 32,
   "outputs": [
    {
     "data": {
      "text/plain": "     v1  \\\n0  ham    \n1  ham    \n2  spam   \n3  ham    \n4  ham    \n\n                                                                                                                                                            v2  \n0  Go until jurong point, crazy.. Available only in bugis n great world la e buffet... Cine there got amore wat...                                              \n1  Ok lar... Joking wif u oni...                                                                                                                                \n2  Free entry in 2 a wkly comp to win FA Cup final tkts 21st May 2005. Text FA to 87121 to receive entry question(std txt rate)T&C's apply 08452810075over18's  \n3  U dun say so early hor... U c already then say...                                                                                                            \n4  Nah I don't think he goes to usf, he lives around here though                                                                                                ",
      "text/html": "<div>\n<style scoped>\n    .dataframe tbody tr th:only-of-type {\n        vertical-align: middle;\n    }\n\n    .dataframe tbody tr th {\n        vertical-align: top;\n    }\n\n    .dataframe thead th {\n        text-align: right;\n    }\n</style>\n<table border=\"1\" class=\"dataframe\">\n  <thead>\n    <tr style=\"text-align: right;\">\n      <th></th>\n      <th>v1</th>\n      <th>v2</th>\n    </tr>\n  </thead>\n  <tbody>\n    <tr>\n      <th>0</th>\n      <td>ham</td>\n      <td>Go until jurong point, crazy.. Available only in bugis n great world la e buffet... Cine there got amore wat...</td>\n    </tr>\n    <tr>\n      <th>1</th>\n      <td>ham</td>\n      <td>Ok lar... Joking wif u oni...</td>\n    </tr>\n    <tr>\n      <th>2</th>\n      <td>spam</td>\n      <td>Free entry in 2 a wkly comp to win FA Cup final tkts 21st May 2005. Text FA to 87121 to receive entry question(std txt rate)T&amp;C's apply 08452810075over18's</td>\n    </tr>\n    <tr>\n      <th>3</th>\n      <td>ham</td>\n      <td>U dun say so early hor... U c already then say...</td>\n    </tr>\n    <tr>\n      <th>4</th>\n      <td>ham</td>\n      <td>Nah I don't think he goes to usf, he lives around here though</td>\n    </tr>\n  </tbody>\n</table>\n</div>"
     },
     "execution_count": 32,
     "metadata": {},
     "output_type": "execute_result"
    }
   ],
   "source": [
    "pd.set_option('display.max_colwidth', 1)\n",
    "\n",
    "# using only v1 and v2 column\n",
    "data = data[['v1', 'v2']]\n",
    "data.head()"
   ],
   "metadata": {
    "collapsed": false,
    "ExecuteTime": {
     "end_time": "2023-10-24T09:57:12.596959708Z",
     "start_time": "2023-10-24T09:57:12.546565845Z"
    }
   },
   "id": "8695c1192877f683"
  },
  {
   "cell_type": "code",
   "execution_count": 33,
   "outputs": [
    {
     "data": {
      "text/plain": "v1\nham     4825\nspam    747 \nName: count, dtype: int64"
     },
     "execution_count": 33,
     "metadata": {},
     "output_type": "execute_result"
    }
   ],
   "source": [
    "# checking the count of the dependent variable\n",
    "data['v1'].value_counts()"
   ],
   "metadata": {
    "collapsed": false,
    "ExecuteTime": {
     "end_time": "2023-10-24T09:57:12.615869492Z",
     "start_time": "2023-10-24T09:57:12.555760323Z"
    }
   },
   "id": "9c7c4831415fe4c5"
  },
  {
   "cell_type": "code",
   "execution_count": 34,
   "outputs": [
    {
     "data": {
      "text/plain": "     v1  \\\n0  ham    \n1  ham    \n2  spam   \n3  ham    \n4  ham    \n\n                                                                                                                                                            v2  \\\n0  Go until jurong point, crazy.. Available only in bugis n great world la e buffet... Cine there got amore wat...                                               \n1  Ok lar... Joking wif u oni...                                                                                                                                 \n2  Free entry in 2 a wkly comp to win FA Cup final tkts 21st May 2005. Text FA to 87121 to receive entry question(std txt rate)T&C's apply 08452810075over18's   \n3  U dun say so early hor... U c already then say...                                                                                                             \n4  Nah I don't think he goes to usf, he lives around here though                                                                                                 \n\n                                                                                                                                               clean_msg  \n0  Go until jurong point crazy Available only in bugis n great world la e buffet Cine there got amore wat                                                 \n1  Ok lar Joking wif u oni                                                                                                                                \n2  Free entry in 2 a wkly comp to win FA Cup final tkts 21st May 2005 Text FA to 87121 to receive entry questionstd txt rateTCs apply 08452810075over18s  \n3  U dun say so early hor U c already then say                                                                                                            \n4  Nah I dont think he goes to usf he lives around here though                                                                                            ",
      "text/html": "<div>\n<style scoped>\n    .dataframe tbody tr th:only-of-type {\n        vertical-align: middle;\n    }\n\n    .dataframe tbody tr th {\n        vertical-align: top;\n    }\n\n    .dataframe thead th {\n        text-align: right;\n    }\n</style>\n<table border=\"1\" class=\"dataframe\">\n  <thead>\n    <tr style=\"text-align: right;\">\n      <th></th>\n      <th>v1</th>\n      <th>v2</th>\n      <th>clean_msg</th>\n    </tr>\n  </thead>\n  <tbody>\n    <tr>\n      <th>0</th>\n      <td>ham</td>\n      <td>Go until jurong point, crazy.. Available only in bugis n great world la e buffet... Cine there got amore wat...</td>\n      <td>Go until jurong point crazy Available only in bugis n great world la e buffet Cine there got amore wat</td>\n    </tr>\n    <tr>\n      <th>1</th>\n      <td>ham</td>\n      <td>Ok lar... Joking wif u oni...</td>\n      <td>Ok lar Joking wif u oni</td>\n    </tr>\n    <tr>\n      <th>2</th>\n      <td>spam</td>\n      <td>Free entry in 2 a wkly comp to win FA Cup final tkts 21st May 2005. Text FA to 87121 to receive entry question(std txt rate)T&amp;C's apply 08452810075over18's</td>\n      <td>Free entry in 2 a wkly comp to win FA Cup final tkts 21st May 2005 Text FA to 87121 to receive entry questionstd txt rateTCs apply 08452810075over18s</td>\n    </tr>\n    <tr>\n      <th>3</th>\n      <td>ham</td>\n      <td>U dun say so early hor... U c already then say...</td>\n      <td>U dun say so early hor U c already then say</td>\n    </tr>\n    <tr>\n      <th>4</th>\n      <td>ham</td>\n      <td>Nah I don't think he goes to usf, he lives around here though</td>\n      <td>Nah I dont think he goes to usf he lives around here though</td>\n    </tr>\n  </tbody>\n</table>\n</div>"
     },
     "execution_count": 34,
     "metadata": {},
     "output_type": "execute_result"
    }
   ],
   "source": [
    "# PUNCTUATION REMOVAL\n",
    "\n",
    "# library that contains punctuation\n",
    "import string\n",
    "\n",
    "# defining the function to remove punctuation\n",
    "def remove_punctuation(text):\n",
    "    punctuation_free = \"\".join([i for i in text if i not in string.punctuation])\n",
    "    return punctuation_free\n",
    "\n",
    "data['clean_msg'] = data['v2'].apply(lambda x: remove_punctuation(x))\n",
    "data.head()"
   ],
   "metadata": {
    "collapsed": false,
    "ExecuteTime": {
     "end_time": "2023-10-24T09:57:12.723160992Z",
     "start_time": "2023-10-24T09:57:12.603130562Z"
    }
   },
   "id": "bbf0cd9d11c1ff98"
  },
  {
   "cell_type": "code",
   "execution_count": 35,
   "outputs": [
    {
     "data": {
      "text/plain": "     v1  \\\n0  ham    \n1  ham    \n2  spam   \n3  ham    \n4  ham    \n\n                                                                                                                                                            v2  \\\n0  Go until jurong point, crazy.. Available only in bugis n great world la e buffet... Cine there got amore wat...                                               \n1  Ok lar... Joking wif u oni...                                                                                                                                 \n2  Free entry in 2 a wkly comp to win FA Cup final tkts 21st May 2005. Text FA to 87121 to receive entry question(std txt rate)T&C's apply 08452810075over18's   \n3  U dun say so early hor... U c already then say...                                                                                                             \n4  Nah I don't think he goes to usf, he lives around here though                                                                                                 \n\n                                                                                                                                               clean_msg  \\\n0  Go until jurong point crazy Available only in bugis n great world la e buffet Cine there got amore wat                                                  \n1  Ok lar Joking wif u oni                                                                                                                                 \n2  Free entry in 2 a wkly comp to win FA Cup final tkts 21st May 2005 Text FA to 87121 to receive entry questionstd txt rateTCs apply 08452810075over18s   \n3  U dun say so early hor U c already then say                                                                                                             \n4  Nah I dont think he goes to usf he lives around here though                                                                                             \n\n                                                                                                                                               msg_lower  \n0  go until jurong point crazy available only in bugis n great world la e buffet cine there got amore wat                                                 \n1  ok lar joking wif u oni                                                                                                                                \n2  free entry in 2 a wkly comp to win fa cup final tkts 21st may 2005 text fa to 87121 to receive entry questionstd txt ratetcs apply 08452810075over18s  \n3  u dun say so early hor u c already then say                                                                                                            \n4  nah i dont think he goes to usf he lives around here though                                                                                            ",
      "text/html": "<div>\n<style scoped>\n    .dataframe tbody tr th:only-of-type {\n        vertical-align: middle;\n    }\n\n    .dataframe tbody tr th {\n        vertical-align: top;\n    }\n\n    .dataframe thead th {\n        text-align: right;\n    }\n</style>\n<table border=\"1\" class=\"dataframe\">\n  <thead>\n    <tr style=\"text-align: right;\">\n      <th></th>\n      <th>v1</th>\n      <th>v2</th>\n      <th>clean_msg</th>\n      <th>msg_lower</th>\n    </tr>\n  </thead>\n  <tbody>\n    <tr>\n      <th>0</th>\n      <td>ham</td>\n      <td>Go until jurong point, crazy.. Available only in bugis n great world la e buffet... Cine there got amore wat...</td>\n      <td>Go until jurong point crazy Available only in bugis n great world la e buffet Cine there got amore wat</td>\n      <td>go until jurong point crazy available only in bugis n great world la e buffet cine there got amore wat</td>\n    </tr>\n    <tr>\n      <th>1</th>\n      <td>ham</td>\n      <td>Ok lar... Joking wif u oni...</td>\n      <td>Ok lar Joking wif u oni</td>\n      <td>ok lar joking wif u oni</td>\n    </tr>\n    <tr>\n      <th>2</th>\n      <td>spam</td>\n      <td>Free entry in 2 a wkly comp to win FA Cup final tkts 21st May 2005. Text FA to 87121 to receive entry question(std txt rate)T&amp;C's apply 08452810075over18's</td>\n      <td>Free entry in 2 a wkly comp to win FA Cup final tkts 21st May 2005 Text FA to 87121 to receive entry questionstd txt rateTCs apply 08452810075over18s</td>\n      <td>free entry in 2 a wkly comp to win fa cup final tkts 21st may 2005 text fa to 87121 to receive entry questionstd txt ratetcs apply 08452810075over18s</td>\n    </tr>\n    <tr>\n      <th>3</th>\n      <td>ham</td>\n      <td>U dun say so early hor... U c already then say...</td>\n      <td>U dun say so early hor U c already then say</td>\n      <td>u dun say so early hor u c already then say</td>\n    </tr>\n    <tr>\n      <th>4</th>\n      <td>ham</td>\n      <td>Nah I don't think he goes to usf, he lives around here though</td>\n      <td>Nah I dont think he goes to usf he lives around here though</td>\n      <td>nah i dont think he goes to usf he lives around here though</td>\n    </tr>\n  </tbody>\n</table>\n</div>"
     },
     "execution_count": 35,
     "metadata": {},
     "output_type": "execute_result"
    }
   ],
   "source": [
    "# LOWERING TEXT\n",
    "\n",
    "data['msg_lower'] = data['clean_msg'].apply(lambda x: x.lower())\n",
    "data.head()"
   ],
   "metadata": {
    "collapsed": false,
    "ExecuteTime": {
     "end_time": "2023-10-24T09:57:12.724229777Z",
     "start_time": "2023-10-24T09:57:12.707151376Z"
    }
   },
   "id": "e9d86992c2f0e02d"
  },
  {
   "cell_type": "code",
   "execution_count": 36,
   "outputs": [
    {
     "data": {
      "text/plain": "     v1  \\\n0  ham    \n1  ham    \n2  spam   \n3  ham    \n4  ham    \n\n                                                                                                                                                            v2  \\\n0  Go until jurong point, crazy.. Available only in bugis n great world la e buffet... Cine there got amore wat...                                               \n1  Ok lar... Joking wif u oni...                                                                                                                                 \n2  Free entry in 2 a wkly comp to win FA Cup final tkts 21st May 2005. Text FA to 87121 to receive entry question(std txt rate)T&C's apply 08452810075over18's   \n3  U dun say so early hor... U c already then say...                                                                                                             \n4  Nah I don't think he goes to usf, he lives around here though                                                                                                 \n\n                                                                                                                                               clean_msg  \\\n0  Go until jurong point crazy Available only in bugis n great world la e buffet Cine there got amore wat                                                  \n1  Ok lar Joking wif u oni                                                                                                                                 \n2  Free entry in 2 a wkly comp to win FA Cup final tkts 21st May 2005 Text FA to 87121 to receive entry questionstd txt rateTCs apply 08452810075over18s   \n3  U dun say so early hor U c already then say                                                                                                             \n4  Nah I dont think he goes to usf he lives around here though                                                                                             \n\n                                                                                                                                               msg_lower  \\\n0  go until jurong point crazy available only in bugis n great world la e buffet cine there got amore wat                                                  \n1  ok lar joking wif u oni                                                                                                                                 \n2  free entry in 2 a wkly comp to win fa cup final tkts 21st may 2005 text fa to 87121 to receive entry questionstd txt ratetcs apply 08452810075over18s   \n3  u dun say so early hor u c already then say                                                                                                             \n4  nah i dont think he goes to usf he lives around here though                                                                                             \n\n                                                                                                                                                                        msg_tokenized  \n0  [go, until, jurong, point, crazy, available, only, in, bugis, n, great, world, la, e, buffet, cine, there, got, amore, wat]                                                         \n1  [ok, lar, joking, wif, u, oni]                                                                                                                                                      \n2  [free, entry, in, 2, a, wkly, comp, to, win, fa, cup, final, tkts, 21st, may, 2005, text, fa, to, 87121, to, receive, entry, questionstd, txt, ratetcs, apply, 08452810075over18s]  \n3  [u, dun, say, so, early, hor, u, c, already, then, say]                                                                                                                             \n4  [nah, i, dont, think, he, goes, to, usf, he, lives, around, here, though]                                                                                                           ",
      "text/html": "<div>\n<style scoped>\n    .dataframe tbody tr th:only-of-type {\n        vertical-align: middle;\n    }\n\n    .dataframe tbody tr th {\n        vertical-align: top;\n    }\n\n    .dataframe thead th {\n        text-align: right;\n    }\n</style>\n<table border=\"1\" class=\"dataframe\">\n  <thead>\n    <tr style=\"text-align: right;\">\n      <th></th>\n      <th>v1</th>\n      <th>v2</th>\n      <th>clean_msg</th>\n      <th>msg_lower</th>\n      <th>msg_tokenized</th>\n    </tr>\n  </thead>\n  <tbody>\n    <tr>\n      <th>0</th>\n      <td>ham</td>\n      <td>Go until jurong point, crazy.. Available only in bugis n great world la e buffet... Cine there got amore wat...</td>\n      <td>Go until jurong point crazy Available only in bugis n great world la e buffet Cine there got amore wat</td>\n      <td>go until jurong point crazy available only in bugis n great world la e buffet cine there got amore wat</td>\n      <td>[go, until, jurong, point, crazy, available, only, in, bugis, n, great, world, la, e, buffet, cine, there, got, amore, wat]</td>\n    </tr>\n    <tr>\n      <th>1</th>\n      <td>ham</td>\n      <td>Ok lar... Joking wif u oni...</td>\n      <td>Ok lar Joking wif u oni</td>\n      <td>ok lar joking wif u oni</td>\n      <td>[ok, lar, joking, wif, u, oni]</td>\n    </tr>\n    <tr>\n      <th>2</th>\n      <td>spam</td>\n      <td>Free entry in 2 a wkly comp to win FA Cup final tkts 21st May 2005. Text FA to 87121 to receive entry question(std txt rate)T&amp;C's apply 08452810075over18's</td>\n      <td>Free entry in 2 a wkly comp to win FA Cup final tkts 21st May 2005 Text FA to 87121 to receive entry questionstd txt rateTCs apply 08452810075over18s</td>\n      <td>free entry in 2 a wkly comp to win fa cup final tkts 21st may 2005 text fa to 87121 to receive entry questionstd txt ratetcs apply 08452810075over18s</td>\n      <td>[free, entry, in, 2, a, wkly, comp, to, win, fa, cup, final, tkts, 21st, may, 2005, text, fa, to, 87121, to, receive, entry, questionstd, txt, ratetcs, apply, 08452810075over18s]</td>\n    </tr>\n    <tr>\n      <th>3</th>\n      <td>ham</td>\n      <td>U dun say so early hor... U c already then say...</td>\n      <td>U dun say so early hor U c already then say</td>\n      <td>u dun say so early hor u c already then say</td>\n      <td>[u, dun, say, so, early, hor, u, c, already, then, say]</td>\n    </tr>\n    <tr>\n      <th>4</th>\n      <td>ham</td>\n      <td>Nah I don't think he goes to usf, he lives around here though</td>\n      <td>Nah I dont think he goes to usf he lives around here though</td>\n      <td>nah i dont think he goes to usf he lives around here though</td>\n      <td>[nah, i, dont, think, he, goes, to, usf, he, lives, around, here, though]</td>\n    </tr>\n  </tbody>\n</table>\n</div>"
     },
     "execution_count": 36,
     "metadata": {},
     "output_type": "execute_result"
    }
   ],
   "source": [
    "# TOKENIZATION\n",
    "\n",
    "import re\n",
    "\n",
    "def tokenization(text):\n",
    "    tokens = re.split('\\s', text)\n",
    "    return tokens\n",
    "\n",
    "data['msg_tokenized'] = data['msg_lower'].apply(lambda x: tokenization(x))\n",
    "data.head()"
   ],
   "metadata": {
    "collapsed": false,
    "ExecuteTime": {
     "end_time": "2023-10-24T09:57:12.817304244Z",
     "start_time": "2023-10-24T09:57:12.755060508Z"
    }
   },
   "id": "2c31769c0c32ebb4"
  },
  {
   "cell_type": "code",
   "execution_count": 37,
   "outputs": [
    {
     "data": {
      "text/plain": "     v1  \\\n0  ham    \n1  ham    \n2  spam   \n3  ham    \n4  ham    \n\n                                                                                                                                                            v2  \\\n0  Go until jurong point, crazy.. Available only in bugis n great world la e buffet... Cine there got amore wat...                                               \n1  Ok lar... Joking wif u oni...                                                                                                                                 \n2  Free entry in 2 a wkly comp to win FA Cup final tkts 21st May 2005. Text FA to 87121 to receive entry question(std txt rate)T&C's apply 08452810075over18's   \n3  U dun say so early hor... U c already then say...                                                                                                             \n4  Nah I don't think he goes to usf, he lives around here though                                                                                                 \n\n                                                                                                                                               clean_msg  \\\n0  Go until jurong point crazy Available only in bugis n great world la e buffet Cine there got amore wat                                                  \n1  Ok lar Joking wif u oni                                                                                                                                 \n2  Free entry in 2 a wkly comp to win FA Cup final tkts 21st May 2005 Text FA to 87121 to receive entry questionstd txt rateTCs apply 08452810075over18s   \n3  U dun say so early hor U c already then say                                                                                                             \n4  Nah I dont think he goes to usf he lives around here though                                                                                             \n\n                                                                                                                                               msg_lower  \\\n0  go until jurong point crazy available only in bugis n great world la e buffet cine there got amore wat                                                  \n1  ok lar joking wif u oni                                                                                                                                 \n2  free entry in 2 a wkly comp to win fa cup final tkts 21st may 2005 text fa to 87121 to receive entry questionstd txt ratetcs apply 08452810075over18s   \n3  u dun say so early hor u c already then say                                                                                                             \n4  nah i dont think he goes to usf he lives around here though                                                                                             \n\n                                                                                                                                                                        msg_tokenized  \\\n0  [go, until, jurong, point, crazy, available, only, in, bugis, n, great, world, la, e, buffet, cine, there, got, amore, wat]                                                          \n1  [ok, lar, joking, wif, u, oni]                                                                                                                                                       \n2  [free, entry, in, 2, a, wkly, comp, to, win, fa, cup, final, tkts, 21st, may, 2005, text, fa, to, 87121, to, receive, entry, questionstd, txt, ratetcs, apply, 08452810075over18s]   \n3  [u, dun, say, so, early, hor, u, c, already, then, say]                                                                                                                              \n4  [nah, i, dont, think, he, goes, to, usf, he, lives, around, here, though]                                                                                                            \n\n                                                                                                                                                      no_stopwords  \n0  [go, jurong, point, crazy, available, bugis, n, great, world, la, e, buffet, cine, got, amore, wat]                                                              \n1  [ok, lar, joking, wif, u, oni]                                                                                                                                   \n2  [free, entry, 2, wkly, comp, win, fa, cup, final, tkts, 21st, may, 2005, text, fa, 87121, receive, entry, questionstd, txt, ratetcs, apply, 08452810075over18s]  \n3  [u, dun, say, early, hor, u, c, already, say]                                                                                                                    \n4  [nah, dont, think, goes, usf, lives, around, though]                                                                                                             ",
      "text/html": "<div>\n<style scoped>\n    .dataframe tbody tr th:only-of-type {\n        vertical-align: middle;\n    }\n\n    .dataframe tbody tr th {\n        vertical-align: top;\n    }\n\n    .dataframe thead th {\n        text-align: right;\n    }\n</style>\n<table border=\"1\" class=\"dataframe\">\n  <thead>\n    <tr style=\"text-align: right;\">\n      <th></th>\n      <th>v1</th>\n      <th>v2</th>\n      <th>clean_msg</th>\n      <th>msg_lower</th>\n      <th>msg_tokenized</th>\n      <th>no_stopwords</th>\n    </tr>\n  </thead>\n  <tbody>\n    <tr>\n      <th>0</th>\n      <td>ham</td>\n      <td>Go until jurong point, crazy.. Available only in bugis n great world la e buffet... Cine there got amore wat...</td>\n      <td>Go until jurong point crazy Available only in bugis n great world la e buffet Cine there got amore wat</td>\n      <td>go until jurong point crazy available only in bugis n great world la e buffet cine there got amore wat</td>\n      <td>[go, until, jurong, point, crazy, available, only, in, bugis, n, great, world, la, e, buffet, cine, there, got, amore, wat]</td>\n      <td>[go, jurong, point, crazy, available, bugis, n, great, world, la, e, buffet, cine, got, amore, wat]</td>\n    </tr>\n    <tr>\n      <th>1</th>\n      <td>ham</td>\n      <td>Ok lar... Joking wif u oni...</td>\n      <td>Ok lar Joking wif u oni</td>\n      <td>ok lar joking wif u oni</td>\n      <td>[ok, lar, joking, wif, u, oni]</td>\n      <td>[ok, lar, joking, wif, u, oni]</td>\n    </tr>\n    <tr>\n      <th>2</th>\n      <td>spam</td>\n      <td>Free entry in 2 a wkly comp to win FA Cup final tkts 21st May 2005. Text FA to 87121 to receive entry question(std txt rate)T&amp;C's apply 08452810075over18's</td>\n      <td>Free entry in 2 a wkly comp to win FA Cup final tkts 21st May 2005 Text FA to 87121 to receive entry questionstd txt rateTCs apply 08452810075over18s</td>\n      <td>free entry in 2 a wkly comp to win fa cup final tkts 21st may 2005 text fa to 87121 to receive entry questionstd txt ratetcs apply 08452810075over18s</td>\n      <td>[free, entry, in, 2, a, wkly, comp, to, win, fa, cup, final, tkts, 21st, may, 2005, text, fa, to, 87121, to, receive, entry, questionstd, txt, ratetcs, apply, 08452810075over18s]</td>\n      <td>[free, entry, 2, wkly, comp, win, fa, cup, final, tkts, 21st, may, 2005, text, fa, 87121, receive, entry, questionstd, txt, ratetcs, apply, 08452810075over18s]</td>\n    </tr>\n    <tr>\n      <th>3</th>\n      <td>ham</td>\n      <td>U dun say so early hor... U c already then say...</td>\n      <td>U dun say so early hor U c already then say</td>\n      <td>u dun say so early hor u c already then say</td>\n      <td>[u, dun, say, so, early, hor, u, c, already, then, say]</td>\n      <td>[u, dun, say, early, hor, u, c, already, say]</td>\n    </tr>\n    <tr>\n      <th>4</th>\n      <td>ham</td>\n      <td>Nah I don't think he goes to usf, he lives around here though</td>\n      <td>Nah I dont think he goes to usf he lives around here though</td>\n      <td>nah i dont think he goes to usf he lives around here though</td>\n      <td>[nah, i, dont, think, he, goes, to, usf, he, lives, around, here, though]</td>\n      <td>[nah, dont, think, goes, usf, lives, around, though]</td>\n    </tr>\n  </tbody>\n</table>\n</div>"
     },
     "execution_count": 37,
     "metadata": {},
     "output_type": "execute_result"
    }
   ],
   "source": [
    "# STOP WORD REMOVAL\n",
    "\n",
    "import nltk\n",
    "\n",
    "# stop words present in the library\n",
    "stopwords = nltk.corpus.stopwords.words('english')\n",
    "\n",
    "def remove_stopwords(text): \n",
    "    return [i for i in text if i not in stopwords]\n",
    "\n",
    "data['no_stopwords'] = data['msg_tokenized'].apply(lambda x: remove_stopwords(x))\n",
    "data.head()"
   ],
   "metadata": {
    "collapsed": false,
    "ExecuteTime": {
     "end_time": "2023-10-24T09:57:13.009439339Z",
     "start_time": "2023-10-24T09:57:12.770239604Z"
    }
   },
   "id": "bafb03df8ad86909"
  },
  {
   "cell_type": "code",
   "execution_count": 38,
   "outputs": [
    {
     "data": {
      "text/plain": "     v1  \\\n0  ham    \n1  ham    \n2  spam   \n3  ham    \n4  ham    \n\n                                                                                                                                                            v2  \\\n0  Go until jurong point, crazy.. Available only in bugis n great world la e buffet... Cine there got amore wat...                                               \n1  Ok lar... Joking wif u oni...                                                                                                                                 \n2  Free entry in 2 a wkly comp to win FA Cup final tkts 21st May 2005. Text FA to 87121 to receive entry question(std txt rate)T&C's apply 08452810075over18's   \n3  U dun say so early hor... U c already then say...                                                                                                             \n4  Nah I don't think he goes to usf, he lives around here though                                                                                                 \n\n                                                                                                                                               clean_msg  \\\n0  Go until jurong point crazy Available only in bugis n great world la e buffet Cine there got amore wat                                                  \n1  Ok lar Joking wif u oni                                                                                                                                 \n2  Free entry in 2 a wkly comp to win FA Cup final tkts 21st May 2005 Text FA to 87121 to receive entry questionstd txt rateTCs apply 08452810075over18s   \n3  U dun say so early hor U c already then say                                                                                                             \n4  Nah I dont think he goes to usf he lives around here though                                                                                             \n\n                                                                                                                                               msg_lower  \\\n0  go until jurong point crazy available only in bugis n great world la e buffet cine there got amore wat                                                  \n1  ok lar joking wif u oni                                                                                                                                 \n2  free entry in 2 a wkly comp to win fa cup final tkts 21st may 2005 text fa to 87121 to receive entry questionstd txt ratetcs apply 08452810075over18s   \n3  u dun say so early hor u c already then say                                                                                                             \n4  nah i dont think he goes to usf he lives around here though                                                                                             \n\n                                                                                                                                                                        msg_tokenized  \\\n0  [go, until, jurong, point, crazy, available, only, in, bugis, n, great, world, la, e, buffet, cine, there, got, amore, wat]                                                          \n1  [ok, lar, joking, wif, u, oni]                                                                                                                                                       \n2  [free, entry, in, 2, a, wkly, comp, to, win, fa, cup, final, tkts, 21st, may, 2005, text, fa, to, 87121, to, receive, entry, questionstd, txt, ratetcs, apply, 08452810075over18s]   \n3  [u, dun, say, so, early, hor, u, c, already, then, say]                                                                                                                              \n4  [nah, i, dont, think, he, goes, to, usf, he, lives, around, here, though]                                                                                                            \n\n                                                                                                                                                      no_stopwords  \\\n0  [go, jurong, point, crazy, available, bugis, n, great, world, la, e, buffet, cine, got, amore, wat]                                                               \n1  [ok, lar, joking, wif, u, oni]                                                                                                                                    \n2  [free, entry, 2, wkly, comp, win, fa, cup, final, tkts, 21st, may, 2005, text, fa, 87121, receive, entry, questionstd, txt, ratetcs, apply, 08452810075over18s]   \n3  [u, dun, say, early, hor, u, c, already, say]                                                                                                                     \n4  [nah, dont, think, goes, usf, lives, around, though]                                                                                                              \n\n                                                                                                                                                   msg_stemmed  \n0  [go, jurong, point, crazi, avail, bugi, n, great, world, la, e, buffet, cine, got, amor, wat]                                                                \n1  [ok, lar, joke, wif, u, oni]                                                                                                                                 \n2  [free, entri, 2, wkli, comp, win, fa, cup, final, tkt, 21st, may, 2005, text, fa, 87121, receiv, entri, questionstd, txt, ratetc, appli, 08452810075over18]  \n3  [u, dun, say, earli, hor, u, c, alreadi, say]                                                                                                                \n4  [nah, dont, think, goe, usf, live, around, though]                                                                                                           ",
      "text/html": "<div>\n<style scoped>\n    .dataframe tbody tr th:only-of-type {\n        vertical-align: middle;\n    }\n\n    .dataframe tbody tr th {\n        vertical-align: top;\n    }\n\n    .dataframe thead th {\n        text-align: right;\n    }\n</style>\n<table border=\"1\" class=\"dataframe\">\n  <thead>\n    <tr style=\"text-align: right;\">\n      <th></th>\n      <th>v1</th>\n      <th>v2</th>\n      <th>clean_msg</th>\n      <th>msg_lower</th>\n      <th>msg_tokenized</th>\n      <th>no_stopwords</th>\n      <th>msg_stemmed</th>\n    </tr>\n  </thead>\n  <tbody>\n    <tr>\n      <th>0</th>\n      <td>ham</td>\n      <td>Go until jurong point, crazy.. Available only in bugis n great world la e buffet... Cine there got amore wat...</td>\n      <td>Go until jurong point crazy Available only in bugis n great world la e buffet Cine there got amore wat</td>\n      <td>go until jurong point crazy available only in bugis n great world la e buffet cine there got amore wat</td>\n      <td>[go, until, jurong, point, crazy, available, only, in, bugis, n, great, world, la, e, buffet, cine, there, got, amore, wat]</td>\n      <td>[go, jurong, point, crazy, available, bugis, n, great, world, la, e, buffet, cine, got, amore, wat]</td>\n      <td>[go, jurong, point, crazi, avail, bugi, n, great, world, la, e, buffet, cine, got, amor, wat]</td>\n    </tr>\n    <tr>\n      <th>1</th>\n      <td>ham</td>\n      <td>Ok lar... Joking wif u oni...</td>\n      <td>Ok lar Joking wif u oni</td>\n      <td>ok lar joking wif u oni</td>\n      <td>[ok, lar, joking, wif, u, oni]</td>\n      <td>[ok, lar, joking, wif, u, oni]</td>\n      <td>[ok, lar, joke, wif, u, oni]</td>\n    </tr>\n    <tr>\n      <th>2</th>\n      <td>spam</td>\n      <td>Free entry in 2 a wkly comp to win FA Cup final tkts 21st May 2005. Text FA to 87121 to receive entry question(std txt rate)T&amp;C's apply 08452810075over18's</td>\n      <td>Free entry in 2 a wkly comp to win FA Cup final tkts 21st May 2005 Text FA to 87121 to receive entry questionstd txt rateTCs apply 08452810075over18s</td>\n      <td>free entry in 2 a wkly comp to win fa cup final tkts 21st may 2005 text fa to 87121 to receive entry questionstd txt ratetcs apply 08452810075over18s</td>\n      <td>[free, entry, in, 2, a, wkly, comp, to, win, fa, cup, final, tkts, 21st, may, 2005, text, fa, to, 87121, to, receive, entry, questionstd, txt, ratetcs, apply, 08452810075over18s]</td>\n      <td>[free, entry, 2, wkly, comp, win, fa, cup, final, tkts, 21st, may, 2005, text, fa, 87121, receive, entry, questionstd, txt, ratetcs, apply, 08452810075over18s]</td>\n      <td>[free, entri, 2, wkli, comp, win, fa, cup, final, tkt, 21st, may, 2005, text, fa, 87121, receiv, entri, questionstd, txt, ratetc, appli, 08452810075over18]</td>\n    </tr>\n    <tr>\n      <th>3</th>\n      <td>ham</td>\n      <td>U dun say so early hor... U c already then say...</td>\n      <td>U dun say so early hor U c already then say</td>\n      <td>u dun say so early hor u c already then say</td>\n      <td>[u, dun, say, so, early, hor, u, c, already, then, say]</td>\n      <td>[u, dun, say, early, hor, u, c, already, say]</td>\n      <td>[u, dun, say, earli, hor, u, c, alreadi, say]</td>\n    </tr>\n    <tr>\n      <th>4</th>\n      <td>ham</td>\n      <td>Nah I don't think he goes to usf, he lives around here though</td>\n      <td>Nah I dont think he goes to usf he lives around here though</td>\n      <td>nah i dont think he goes to usf he lives around here though</td>\n      <td>[nah, i, dont, think, he, goes, to, usf, he, lives, around, here, though]</td>\n      <td>[nah, dont, think, goes, usf, lives, around, though]</td>\n      <td>[nah, dont, think, goe, usf, live, around, though]</td>\n    </tr>\n  </tbody>\n</table>\n</div>"
     },
     "execution_count": 38,
     "metadata": {},
     "output_type": "execute_result"
    }
   ],
   "source": [
    "# STEMMING\n",
    "\n",
    "from nltk.stem.porter import PorterStemmer\n",
    "\n",
    "porter_stemmer = PorterStemmer()\n",
    "\n",
    "def stemming(text): \n",
    "    return [porter_stemmer.stem(word) for word in text]\n",
    "\n",
    "data['msg_stemmed'] = data['no_stopwords'].apply(lambda x: stemming(x))\n",
    "data.head()"
   ],
   "metadata": {
    "collapsed": false,
    "ExecuteTime": {
     "end_time": "2023-10-24T09:57:14.102207845Z",
     "start_time": "2023-10-24T09:57:13.028300401Z"
    }
   },
   "id": "775e4cdec217657b"
  },
  {
   "cell_type": "code",
   "execution_count": 39,
   "outputs": [
    {
     "data": {
      "text/plain": "     v1  \\\n0  ham    \n1  ham    \n2  spam   \n3  ham    \n4  ham    \n\n                                                                                                                                                            v2  \\\n0  Go until jurong point, crazy.. Available only in bugis n great world la e buffet... Cine there got amore wat...                                               \n1  Ok lar... Joking wif u oni...                                                                                                                                 \n2  Free entry in 2 a wkly comp to win FA Cup final tkts 21st May 2005. Text FA to 87121 to receive entry question(std txt rate)T&C's apply 08452810075over18's   \n3  U dun say so early hor... U c already then say...                                                                                                             \n4  Nah I don't think he goes to usf, he lives around here though                                                                                                 \n\n                                                                                                                                               clean_msg  \\\n0  Go until jurong point crazy Available only in bugis n great world la e buffet Cine there got amore wat                                                  \n1  Ok lar Joking wif u oni                                                                                                                                 \n2  Free entry in 2 a wkly comp to win FA Cup final tkts 21st May 2005 Text FA to 87121 to receive entry questionstd txt rateTCs apply 08452810075over18s   \n3  U dun say so early hor U c already then say                                                                                                             \n4  Nah I dont think he goes to usf he lives around here though                                                                                             \n\n                                                                                                                                               msg_lower  \\\n0  go until jurong point crazy available only in bugis n great world la e buffet cine there got amore wat                                                  \n1  ok lar joking wif u oni                                                                                                                                 \n2  free entry in 2 a wkly comp to win fa cup final tkts 21st may 2005 text fa to 87121 to receive entry questionstd txt ratetcs apply 08452810075over18s   \n3  u dun say so early hor u c already then say                                                                                                             \n4  nah i dont think he goes to usf he lives around here though                                                                                             \n\n                                                                                                                                                                        msg_tokenized  \\\n0  [go, until, jurong, point, crazy, available, only, in, bugis, n, great, world, la, e, buffet, cine, there, got, amore, wat]                                                          \n1  [ok, lar, joking, wif, u, oni]                                                                                                                                                       \n2  [free, entry, in, 2, a, wkly, comp, to, win, fa, cup, final, tkts, 21st, may, 2005, text, fa, to, 87121, to, receive, entry, questionstd, txt, ratetcs, apply, 08452810075over18s]   \n3  [u, dun, say, so, early, hor, u, c, already, then, say]                                                                                                                              \n4  [nah, i, dont, think, he, goes, to, usf, he, lives, around, here, though]                                                                                                            \n\n                                                                                                                                                      no_stopwords  \\\n0  [go, jurong, point, crazy, available, bugis, n, great, world, la, e, buffet, cine, got, amore, wat]                                                               \n1  [ok, lar, joking, wif, u, oni]                                                                                                                                    \n2  [free, entry, 2, wkly, comp, win, fa, cup, final, tkts, 21st, may, 2005, text, fa, 87121, receive, entry, questionstd, txt, ratetcs, apply, 08452810075over18s]   \n3  [u, dun, say, early, hor, u, c, already, say]                                                                                                                     \n4  [nah, dont, think, goes, usf, lives, around, though]                                                                                                              \n\n                                                                                                                                                   msg_stemmed  \\\n0  [go, jurong, point, crazi, avail, bugi, n, great, world, la, e, buffet, cine, got, amor, wat]                                                                 \n1  [ok, lar, joke, wif, u, oni]                                                                                                                                  \n2  [free, entri, 2, wkli, comp, win, fa, cup, final, tkt, 21st, may, 2005, text, fa, 87121, receiv, entri, questionstd, txt, ratetc, appli, 08452810075over18]   \n3  [u, dun, say, earli, hor, u, c, alreadi, say]                                                                                                                 \n4  [nah, dont, think, goe, usf, live, around, though]                                                                                                            \n\n                                                                                                                                                    msg_lemmatized  \n0  [go, jurong, point, crazy, available, bugis, n, great, world, la, e, buffet, cine, got, amore, wat]                                                              \n1  [ok, lar, joking, wif, u, oni]                                                                                                                                   \n2  [free, entry, 2, wkly, comp, win, fa, cup, final, tkts, 21st, may, 2005, text, fa, 87121, receive, entry, questionstd, txt, ratetcs, apply, 08452810075over18s]  \n3  [u, dun, say, early, hor, u, c, already, say]                                                                                                                    \n4  [nah, dont, think, go, usf, life, around, though]                                                                                                                ",
      "text/html": "<div>\n<style scoped>\n    .dataframe tbody tr th:only-of-type {\n        vertical-align: middle;\n    }\n\n    .dataframe tbody tr th {\n        vertical-align: top;\n    }\n\n    .dataframe thead th {\n        text-align: right;\n    }\n</style>\n<table border=\"1\" class=\"dataframe\">\n  <thead>\n    <tr style=\"text-align: right;\">\n      <th></th>\n      <th>v1</th>\n      <th>v2</th>\n      <th>clean_msg</th>\n      <th>msg_lower</th>\n      <th>msg_tokenized</th>\n      <th>no_stopwords</th>\n      <th>msg_stemmed</th>\n      <th>msg_lemmatized</th>\n    </tr>\n  </thead>\n  <tbody>\n    <tr>\n      <th>0</th>\n      <td>ham</td>\n      <td>Go until jurong point, crazy.. Available only in bugis n great world la e buffet... Cine there got amore wat...</td>\n      <td>Go until jurong point crazy Available only in bugis n great world la e buffet Cine there got amore wat</td>\n      <td>go until jurong point crazy available only in bugis n great world la e buffet cine there got amore wat</td>\n      <td>[go, until, jurong, point, crazy, available, only, in, bugis, n, great, world, la, e, buffet, cine, there, got, amore, wat]</td>\n      <td>[go, jurong, point, crazy, available, bugis, n, great, world, la, e, buffet, cine, got, amore, wat]</td>\n      <td>[go, jurong, point, crazi, avail, bugi, n, great, world, la, e, buffet, cine, got, amor, wat]</td>\n      <td>[go, jurong, point, crazy, available, bugis, n, great, world, la, e, buffet, cine, got, amore, wat]</td>\n    </tr>\n    <tr>\n      <th>1</th>\n      <td>ham</td>\n      <td>Ok lar... Joking wif u oni...</td>\n      <td>Ok lar Joking wif u oni</td>\n      <td>ok lar joking wif u oni</td>\n      <td>[ok, lar, joking, wif, u, oni]</td>\n      <td>[ok, lar, joking, wif, u, oni]</td>\n      <td>[ok, lar, joke, wif, u, oni]</td>\n      <td>[ok, lar, joking, wif, u, oni]</td>\n    </tr>\n    <tr>\n      <th>2</th>\n      <td>spam</td>\n      <td>Free entry in 2 a wkly comp to win FA Cup final tkts 21st May 2005. Text FA to 87121 to receive entry question(std txt rate)T&amp;C's apply 08452810075over18's</td>\n      <td>Free entry in 2 a wkly comp to win FA Cup final tkts 21st May 2005 Text FA to 87121 to receive entry questionstd txt rateTCs apply 08452810075over18s</td>\n      <td>free entry in 2 a wkly comp to win fa cup final tkts 21st may 2005 text fa to 87121 to receive entry questionstd txt ratetcs apply 08452810075over18s</td>\n      <td>[free, entry, in, 2, a, wkly, comp, to, win, fa, cup, final, tkts, 21st, may, 2005, text, fa, to, 87121, to, receive, entry, questionstd, txt, ratetcs, apply, 08452810075over18s]</td>\n      <td>[free, entry, 2, wkly, comp, win, fa, cup, final, tkts, 21st, may, 2005, text, fa, 87121, receive, entry, questionstd, txt, ratetcs, apply, 08452810075over18s]</td>\n      <td>[free, entri, 2, wkli, comp, win, fa, cup, final, tkt, 21st, may, 2005, text, fa, 87121, receiv, entri, questionstd, txt, ratetc, appli, 08452810075over18]</td>\n      <td>[free, entry, 2, wkly, comp, win, fa, cup, final, tkts, 21st, may, 2005, text, fa, 87121, receive, entry, questionstd, txt, ratetcs, apply, 08452810075over18s]</td>\n    </tr>\n    <tr>\n      <th>3</th>\n      <td>ham</td>\n      <td>U dun say so early hor... U c already then say...</td>\n      <td>U dun say so early hor U c already then say</td>\n      <td>u dun say so early hor u c already then say</td>\n      <td>[u, dun, say, so, early, hor, u, c, already, then, say]</td>\n      <td>[u, dun, say, early, hor, u, c, already, say]</td>\n      <td>[u, dun, say, earli, hor, u, c, alreadi, say]</td>\n      <td>[u, dun, say, early, hor, u, c, already, say]</td>\n    </tr>\n    <tr>\n      <th>4</th>\n      <td>ham</td>\n      <td>Nah I don't think he goes to usf, he lives around here though</td>\n      <td>Nah I dont think he goes to usf he lives around here though</td>\n      <td>nah i dont think he goes to usf he lives around here though</td>\n      <td>[nah, i, dont, think, he, goes, to, usf, he, lives, around, here, though]</td>\n      <td>[nah, dont, think, goes, usf, lives, around, though]</td>\n      <td>[nah, dont, think, goe, usf, live, around, though]</td>\n      <td>[nah, dont, think, go, usf, life, around, though]</td>\n    </tr>\n  </tbody>\n</table>\n</div>"
     },
     "execution_count": 39,
     "metadata": {},
     "output_type": "execute_result"
    }
   ],
   "source": [
    "# LEMMATIZATION\n",
    "\n",
    "from nltk.stem import WordNetLemmatizer\n",
    "\n",
    "wordnet_lemmatizer = WordNetLemmatizer()\n",
    "\n",
    "def lemmatizer(text):\n",
    "    return [wordnet_lemmatizer.lemmatize(word) for word in text]\n",
    "\n",
    "data['msg_lemmatized'] = data['no_stopwords'].apply(lambda x: lemmatizer(x))\n",
    "data.head()"
   ],
   "metadata": {
    "collapsed": false,
    "ExecuteTime": {
     "end_time": "2023-10-24T09:57:14.438396678Z",
     "start_time": "2023-10-24T09:57:14.124086950Z"
    }
   },
   "id": "ac6bfef8ad8cc8f9"
  }
 ],
 "metadata": {
  "kernelspec": {
   "display_name": "Python 3",
   "language": "python",
   "name": "python3"
  },
  "language_info": {
   "codemirror_mode": {
    "name": "ipython",
    "version": 2
   },
   "file_extension": ".py",
   "mimetype": "text/x-python",
   "name": "python",
   "nbconvert_exporter": "python",
   "pygments_lexer": "ipython2",
   "version": "2.7.6"
  }
 },
 "nbformat": 4,
 "nbformat_minor": 5
}
