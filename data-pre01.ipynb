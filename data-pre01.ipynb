{
 "cells": [
  {
   "cell_type": "code",
   "execution_count": 12,
   "metadata": {
    "ExecuteTime": {
     "end_time": "2023-12-20T02:58:02.227855446Z",
     "start_time": "2023-12-20T02:58:02.102830593Z"
    }
   },
   "outputs": [
    {
     "data": {
      "text/plain": "    f1   f2   f3  f4  t\n0    1  0.0  1.0   1  1\n1    1  1.0  NaN   1  1\n2    1  NaN  0.0   1  0\n3    1  NaN  0.0   1  1\n4    1  1.0  1.0   0  1\n5    1  0.0  1.0   1  1\n6    1  1.0  NaN   1  1\n7    1  NaN  0.0   1  0\n8    1  NaN  0.0   1  1\n9    1  1.0  1.0   0  1\n10   1  0.0  1.0   1  1\n11   1  1.0  NaN   1  1\n12   1  NaN  0.0   1  0\n13   1  NaN  0.0   1  1\n14   1  1.0  1.0   0  1\n15   1  0.0  1.0   1  1\n16   1  1.0  NaN   1  1\n17   1  NaN  0.0   1  0\n18   1  NaN  0.0   1  1\n19   1  1.0  1.0   0  1\n20   1  0.0  1.0   1  1\n21   1  1.0  NaN   1  1\n22   1  NaN  0.0   1  0\n23   1  NaN  0.0   1  1\n24   1  1.0  1.0   0  1\n25   1  0.0  1.0   1  1\n26   1  1.0  NaN   1  1\n27   1  NaN  0.0   1  0\n28   1  NaN  0.0   1  1\n29   1  1.0  1.0   0  1\n30   1  0.0  1.0   1  1\n31   1  1.0  NaN   1  1\n32   1  NaN  0.0   1  0\n33   1  NaN  0.0   1  1\n34   1  1.0  1.0   0  1\n35   1  0.0  1.0   1  1\n36   1  1.0  NaN   1  1\n37   1  NaN  0.0   1  0\n38   1  NaN  0.0   1  1\n39   1  1.0  1.0   0  1\n40   1  0.0  1.0   1  1\n41   1  1.0  NaN   1  1\n42   1  NaN  0.0   1  0\n43   1  NaN  0.0   1  1\n44   1  1.0  1.0   0  1",
      "text/html": "<div>\n<style scoped>\n    .dataframe tbody tr th:only-of-type {\n        vertical-align: middle;\n    }\n\n    .dataframe tbody tr th {\n        vertical-align: top;\n    }\n\n    .dataframe thead th {\n        text-align: right;\n    }\n</style>\n<table border=\"1\" class=\"dataframe\">\n  <thead>\n    <tr style=\"text-align: right;\">\n      <th></th>\n      <th>f1</th>\n      <th>f2</th>\n      <th>f3</th>\n      <th>f4</th>\n      <th>t</th>\n    </tr>\n  </thead>\n  <tbody>\n    <tr>\n      <th>0</th>\n      <td>1</td>\n      <td>0.0</td>\n      <td>1.0</td>\n      <td>1</td>\n      <td>1</td>\n    </tr>\n    <tr>\n      <th>1</th>\n      <td>1</td>\n      <td>1.0</td>\n      <td>NaN</td>\n      <td>1</td>\n      <td>1</td>\n    </tr>\n    <tr>\n      <th>2</th>\n      <td>1</td>\n      <td>NaN</td>\n      <td>0.0</td>\n      <td>1</td>\n      <td>0</td>\n    </tr>\n    <tr>\n      <th>3</th>\n      <td>1</td>\n      <td>NaN</td>\n      <td>0.0</td>\n      <td>1</td>\n      <td>1</td>\n    </tr>\n    <tr>\n      <th>4</th>\n      <td>1</td>\n      <td>1.0</td>\n      <td>1.0</td>\n      <td>0</td>\n      <td>1</td>\n    </tr>\n    <tr>\n      <th>5</th>\n      <td>1</td>\n      <td>0.0</td>\n      <td>1.0</td>\n      <td>1</td>\n      <td>1</td>\n    </tr>\n    <tr>\n      <th>6</th>\n      <td>1</td>\n      <td>1.0</td>\n      <td>NaN</td>\n      <td>1</td>\n      <td>1</td>\n    </tr>\n    <tr>\n      <th>7</th>\n      <td>1</td>\n      <td>NaN</td>\n      <td>0.0</td>\n      <td>1</td>\n      <td>0</td>\n    </tr>\n    <tr>\n      <th>8</th>\n      <td>1</td>\n      <td>NaN</td>\n      <td>0.0</td>\n      <td>1</td>\n      <td>1</td>\n    </tr>\n    <tr>\n      <th>9</th>\n      <td>1</td>\n      <td>1.0</td>\n      <td>1.0</td>\n      <td>0</td>\n      <td>1</td>\n    </tr>\n    <tr>\n      <th>10</th>\n      <td>1</td>\n      <td>0.0</td>\n      <td>1.0</td>\n      <td>1</td>\n      <td>1</td>\n    </tr>\n    <tr>\n      <th>11</th>\n      <td>1</td>\n      <td>1.0</td>\n      <td>NaN</td>\n      <td>1</td>\n      <td>1</td>\n    </tr>\n    <tr>\n      <th>12</th>\n      <td>1</td>\n      <td>NaN</td>\n      <td>0.0</td>\n      <td>1</td>\n      <td>0</td>\n    </tr>\n    <tr>\n      <th>13</th>\n      <td>1</td>\n      <td>NaN</td>\n      <td>0.0</td>\n      <td>1</td>\n      <td>1</td>\n    </tr>\n    <tr>\n      <th>14</th>\n      <td>1</td>\n      <td>1.0</td>\n      <td>1.0</td>\n      <td>0</td>\n      <td>1</td>\n    </tr>\n    <tr>\n      <th>15</th>\n      <td>1</td>\n      <td>0.0</td>\n      <td>1.0</td>\n      <td>1</td>\n      <td>1</td>\n    </tr>\n    <tr>\n      <th>16</th>\n      <td>1</td>\n      <td>1.0</td>\n      <td>NaN</td>\n      <td>1</td>\n      <td>1</td>\n    </tr>\n    <tr>\n      <th>17</th>\n      <td>1</td>\n      <td>NaN</td>\n      <td>0.0</td>\n      <td>1</td>\n      <td>0</td>\n    </tr>\n    <tr>\n      <th>18</th>\n      <td>1</td>\n      <td>NaN</td>\n      <td>0.0</td>\n      <td>1</td>\n      <td>1</td>\n    </tr>\n    <tr>\n      <th>19</th>\n      <td>1</td>\n      <td>1.0</td>\n      <td>1.0</td>\n      <td>0</td>\n      <td>1</td>\n    </tr>\n    <tr>\n      <th>20</th>\n      <td>1</td>\n      <td>0.0</td>\n      <td>1.0</td>\n      <td>1</td>\n      <td>1</td>\n    </tr>\n    <tr>\n      <th>21</th>\n      <td>1</td>\n      <td>1.0</td>\n      <td>NaN</td>\n      <td>1</td>\n      <td>1</td>\n    </tr>\n    <tr>\n      <th>22</th>\n      <td>1</td>\n      <td>NaN</td>\n      <td>0.0</td>\n      <td>1</td>\n      <td>0</td>\n    </tr>\n    <tr>\n      <th>23</th>\n      <td>1</td>\n      <td>NaN</td>\n      <td>0.0</td>\n      <td>1</td>\n      <td>1</td>\n    </tr>\n    <tr>\n      <th>24</th>\n      <td>1</td>\n      <td>1.0</td>\n      <td>1.0</td>\n      <td>0</td>\n      <td>1</td>\n    </tr>\n    <tr>\n      <th>25</th>\n      <td>1</td>\n      <td>0.0</td>\n      <td>1.0</td>\n      <td>1</td>\n      <td>1</td>\n    </tr>\n    <tr>\n      <th>26</th>\n      <td>1</td>\n      <td>1.0</td>\n      <td>NaN</td>\n      <td>1</td>\n      <td>1</td>\n    </tr>\n    <tr>\n      <th>27</th>\n      <td>1</td>\n      <td>NaN</td>\n      <td>0.0</td>\n      <td>1</td>\n      <td>0</td>\n    </tr>\n    <tr>\n      <th>28</th>\n      <td>1</td>\n      <td>NaN</td>\n      <td>0.0</td>\n      <td>1</td>\n      <td>1</td>\n    </tr>\n    <tr>\n      <th>29</th>\n      <td>1</td>\n      <td>1.0</td>\n      <td>1.0</td>\n      <td>0</td>\n      <td>1</td>\n    </tr>\n    <tr>\n      <th>30</th>\n      <td>1</td>\n      <td>0.0</td>\n      <td>1.0</td>\n      <td>1</td>\n      <td>1</td>\n    </tr>\n    <tr>\n      <th>31</th>\n      <td>1</td>\n      <td>1.0</td>\n      <td>NaN</td>\n      <td>1</td>\n      <td>1</td>\n    </tr>\n    <tr>\n      <th>32</th>\n      <td>1</td>\n      <td>NaN</td>\n      <td>0.0</td>\n      <td>1</td>\n      <td>0</td>\n    </tr>\n    <tr>\n      <th>33</th>\n      <td>1</td>\n      <td>NaN</td>\n      <td>0.0</td>\n      <td>1</td>\n      <td>1</td>\n    </tr>\n    <tr>\n      <th>34</th>\n      <td>1</td>\n      <td>1.0</td>\n      <td>1.0</td>\n      <td>0</td>\n      <td>1</td>\n    </tr>\n    <tr>\n      <th>35</th>\n      <td>1</td>\n      <td>0.0</td>\n      <td>1.0</td>\n      <td>1</td>\n      <td>1</td>\n    </tr>\n    <tr>\n      <th>36</th>\n      <td>1</td>\n      <td>1.0</td>\n      <td>NaN</td>\n      <td>1</td>\n      <td>1</td>\n    </tr>\n    <tr>\n      <th>37</th>\n      <td>1</td>\n      <td>NaN</td>\n      <td>0.0</td>\n      <td>1</td>\n      <td>0</td>\n    </tr>\n    <tr>\n      <th>38</th>\n      <td>1</td>\n      <td>NaN</td>\n      <td>0.0</td>\n      <td>1</td>\n      <td>1</td>\n    </tr>\n    <tr>\n      <th>39</th>\n      <td>1</td>\n      <td>1.0</td>\n      <td>1.0</td>\n      <td>0</td>\n      <td>1</td>\n    </tr>\n    <tr>\n      <th>40</th>\n      <td>1</td>\n      <td>0.0</td>\n      <td>1.0</td>\n      <td>1</td>\n      <td>1</td>\n    </tr>\n    <tr>\n      <th>41</th>\n      <td>1</td>\n      <td>1.0</td>\n      <td>NaN</td>\n      <td>1</td>\n      <td>1</td>\n    </tr>\n    <tr>\n      <th>42</th>\n      <td>1</td>\n      <td>NaN</td>\n      <td>0.0</td>\n      <td>1</td>\n      <td>0</td>\n    </tr>\n    <tr>\n      <th>43</th>\n      <td>1</td>\n      <td>NaN</td>\n      <td>0.0</td>\n      <td>1</td>\n      <td>1</td>\n    </tr>\n    <tr>\n      <th>44</th>\n      <td>1</td>\n      <td>1.0</td>\n      <td>1.0</td>\n      <td>0</td>\n      <td>1</td>\n    </tr>\n  </tbody>\n</table>\n</div>"
     },
     "execution_count": 12,
     "metadata": {},
     "output_type": "execute_result"
    }
   ],
   "source": [
    "import pandas as pd\n",
    "\n",
    "data_source = \"dataset/misingvalue.csv\"\n",
    "\n",
    "df = pd.read_csv(data_source, delimiter = ';')\n",
    "\n",
    "df"
   ]
  },
  {
   "cell_type": "code",
   "execution_count": 13,
   "outputs": [
    {
     "data": {
      "text/plain": "f1     0\nf2    18\nf3     9\nf4     0\nt      0\ndtype: int64"
     },
     "execution_count": 13,
     "metadata": {},
     "output_type": "execute_result"
    }
   ],
   "source": [
    "df.isna().sum()"
   ],
   "metadata": {
    "collapsed": false,
    "ExecuteTime": {
     "end_time": "2023-12-20T02:58:02.253050610Z",
     "start_time": "2023-12-20T02:58:02.145356860Z"
    }
   }
  },
  {
   "cell_type": "code",
   "execution_count": 14,
   "outputs": [
    {
     "name": "stderr",
     "output_type": "stream",
     "text": [
      "/tmp/ipykernel_53785/2331061169.py:1: FutureWarning: DataFrame.fillna with 'method' is deprecated and will raise in a future version. Use obj.ffill() or obj.bfill() instead.\n",
      "  new_df = df.fillna(method=\"ffill\")\n"
     ]
    },
    {
     "data": {
      "text/plain": "    f1   f2   f3  f4  t\n0    1  0.0  1.0   1  1\n1    1  1.0  1.0   1  1\n2    1  1.0  0.0   1  0\n3    1  1.0  0.0   1  1\n4    1  1.0  1.0   0  1\n5    1  0.0  1.0   1  1\n6    1  1.0  1.0   1  1\n7    1  1.0  0.0   1  0\n8    1  1.0  0.0   1  1\n9    1  1.0  1.0   0  1\n10   1  0.0  1.0   1  1\n11   1  1.0  1.0   1  1\n12   1  1.0  0.0   1  0\n13   1  1.0  0.0   1  1\n14   1  1.0  1.0   0  1\n15   1  0.0  1.0   1  1\n16   1  1.0  1.0   1  1\n17   1  1.0  0.0   1  0\n18   1  1.0  0.0   1  1\n19   1  1.0  1.0   0  1\n20   1  0.0  1.0   1  1\n21   1  1.0  1.0   1  1\n22   1  1.0  0.0   1  0\n23   1  1.0  0.0   1  1\n24   1  1.0  1.0   0  1\n25   1  0.0  1.0   1  1\n26   1  1.0  1.0   1  1\n27   1  1.0  0.0   1  0\n28   1  1.0  0.0   1  1\n29   1  1.0  1.0   0  1\n30   1  0.0  1.0   1  1\n31   1  1.0  1.0   1  1\n32   1  1.0  0.0   1  0\n33   1  1.0  0.0   1  1\n34   1  1.0  1.0   0  1\n35   1  0.0  1.0   1  1\n36   1  1.0  1.0   1  1\n37   1  1.0  0.0   1  0\n38   1  1.0  0.0   1  1\n39   1  1.0  1.0   0  1\n40   1  0.0  1.0   1  1\n41   1  1.0  1.0   1  1\n42   1  1.0  0.0   1  0\n43   1  1.0  0.0   1  1\n44   1  1.0  1.0   0  1",
      "text/html": "<div>\n<style scoped>\n    .dataframe tbody tr th:only-of-type {\n        vertical-align: middle;\n    }\n\n    .dataframe tbody tr th {\n        vertical-align: top;\n    }\n\n    .dataframe thead th {\n        text-align: right;\n    }\n</style>\n<table border=\"1\" class=\"dataframe\">\n  <thead>\n    <tr style=\"text-align: right;\">\n      <th></th>\n      <th>f1</th>\n      <th>f2</th>\n      <th>f3</th>\n      <th>f4</th>\n      <th>t</th>\n    </tr>\n  </thead>\n  <tbody>\n    <tr>\n      <th>0</th>\n      <td>1</td>\n      <td>0.0</td>\n      <td>1.0</td>\n      <td>1</td>\n      <td>1</td>\n    </tr>\n    <tr>\n      <th>1</th>\n      <td>1</td>\n      <td>1.0</td>\n      <td>1.0</td>\n      <td>1</td>\n      <td>1</td>\n    </tr>\n    <tr>\n      <th>2</th>\n      <td>1</td>\n      <td>1.0</td>\n      <td>0.0</td>\n      <td>1</td>\n      <td>0</td>\n    </tr>\n    <tr>\n      <th>3</th>\n      <td>1</td>\n      <td>1.0</td>\n      <td>0.0</td>\n      <td>1</td>\n      <td>1</td>\n    </tr>\n    <tr>\n      <th>4</th>\n      <td>1</td>\n      <td>1.0</td>\n      <td>1.0</td>\n      <td>0</td>\n      <td>1</td>\n    </tr>\n    <tr>\n      <th>5</th>\n      <td>1</td>\n      <td>0.0</td>\n      <td>1.0</td>\n      <td>1</td>\n      <td>1</td>\n    </tr>\n    <tr>\n      <th>6</th>\n      <td>1</td>\n      <td>1.0</td>\n      <td>1.0</td>\n      <td>1</td>\n      <td>1</td>\n    </tr>\n    <tr>\n      <th>7</th>\n      <td>1</td>\n      <td>1.0</td>\n      <td>0.0</td>\n      <td>1</td>\n      <td>0</td>\n    </tr>\n    <tr>\n      <th>8</th>\n      <td>1</td>\n      <td>1.0</td>\n      <td>0.0</td>\n      <td>1</td>\n      <td>1</td>\n    </tr>\n    <tr>\n      <th>9</th>\n      <td>1</td>\n      <td>1.0</td>\n      <td>1.0</td>\n      <td>0</td>\n      <td>1</td>\n    </tr>\n    <tr>\n      <th>10</th>\n      <td>1</td>\n      <td>0.0</td>\n      <td>1.0</td>\n      <td>1</td>\n      <td>1</td>\n    </tr>\n    <tr>\n      <th>11</th>\n      <td>1</td>\n      <td>1.0</td>\n      <td>1.0</td>\n      <td>1</td>\n      <td>1</td>\n    </tr>\n    <tr>\n      <th>12</th>\n      <td>1</td>\n      <td>1.0</td>\n      <td>0.0</td>\n      <td>1</td>\n      <td>0</td>\n    </tr>\n    <tr>\n      <th>13</th>\n      <td>1</td>\n      <td>1.0</td>\n      <td>0.0</td>\n      <td>1</td>\n      <td>1</td>\n    </tr>\n    <tr>\n      <th>14</th>\n      <td>1</td>\n      <td>1.0</td>\n      <td>1.0</td>\n      <td>0</td>\n      <td>1</td>\n    </tr>\n    <tr>\n      <th>15</th>\n      <td>1</td>\n      <td>0.0</td>\n      <td>1.0</td>\n      <td>1</td>\n      <td>1</td>\n    </tr>\n    <tr>\n      <th>16</th>\n      <td>1</td>\n      <td>1.0</td>\n      <td>1.0</td>\n      <td>1</td>\n      <td>1</td>\n    </tr>\n    <tr>\n      <th>17</th>\n      <td>1</td>\n      <td>1.0</td>\n      <td>0.0</td>\n      <td>1</td>\n      <td>0</td>\n    </tr>\n    <tr>\n      <th>18</th>\n      <td>1</td>\n      <td>1.0</td>\n      <td>0.0</td>\n      <td>1</td>\n      <td>1</td>\n    </tr>\n    <tr>\n      <th>19</th>\n      <td>1</td>\n      <td>1.0</td>\n      <td>1.0</td>\n      <td>0</td>\n      <td>1</td>\n    </tr>\n    <tr>\n      <th>20</th>\n      <td>1</td>\n      <td>0.0</td>\n      <td>1.0</td>\n      <td>1</td>\n      <td>1</td>\n    </tr>\n    <tr>\n      <th>21</th>\n      <td>1</td>\n      <td>1.0</td>\n      <td>1.0</td>\n      <td>1</td>\n      <td>1</td>\n    </tr>\n    <tr>\n      <th>22</th>\n      <td>1</td>\n      <td>1.0</td>\n      <td>0.0</td>\n      <td>1</td>\n      <td>0</td>\n    </tr>\n    <tr>\n      <th>23</th>\n      <td>1</td>\n      <td>1.0</td>\n      <td>0.0</td>\n      <td>1</td>\n      <td>1</td>\n    </tr>\n    <tr>\n      <th>24</th>\n      <td>1</td>\n      <td>1.0</td>\n      <td>1.0</td>\n      <td>0</td>\n      <td>1</td>\n    </tr>\n    <tr>\n      <th>25</th>\n      <td>1</td>\n      <td>0.0</td>\n      <td>1.0</td>\n      <td>1</td>\n      <td>1</td>\n    </tr>\n    <tr>\n      <th>26</th>\n      <td>1</td>\n      <td>1.0</td>\n      <td>1.0</td>\n      <td>1</td>\n      <td>1</td>\n    </tr>\n    <tr>\n      <th>27</th>\n      <td>1</td>\n      <td>1.0</td>\n      <td>0.0</td>\n      <td>1</td>\n      <td>0</td>\n    </tr>\n    <tr>\n      <th>28</th>\n      <td>1</td>\n      <td>1.0</td>\n      <td>0.0</td>\n      <td>1</td>\n      <td>1</td>\n    </tr>\n    <tr>\n      <th>29</th>\n      <td>1</td>\n      <td>1.0</td>\n      <td>1.0</td>\n      <td>0</td>\n      <td>1</td>\n    </tr>\n    <tr>\n      <th>30</th>\n      <td>1</td>\n      <td>0.0</td>\n      <td>1.0</td>\n      <td>1</td>\n      <td>1</td>\n    </tr>\n    <tr>\n      <th>31</th>\n      <td>1</td>\n      <td>1.0</td>\n      <td>1.0</td>\n      <td>1</td>\n      <td>1</td>\n    </tr>\n    <tr>\n      <th>32</th>\n      <td>1</td>\n      <td>1.0</td>\n      <td>0.0</td>\n      <td>1</td>\n      <td>0</td>\n    </tr>\n    <tr>\n      <th>33</th>\n      <td>1</td>\n      <td>1.0</td>\n      <td>0.0</td>\n      <td>1</td>\n      <td>1</td>\n    </tr>\n    <tr>\n      <th>34</th>\n      <td>1</td>\n      <td>1.0</td>\n      <td>1.0</td>\n      <td>0</td>\n      <td>1</td>\n    </tr>\n    <tr>\n      <th>35</th>\n      <td>1</td>\n      <td>0.0</td>\n      <td>1.0</td>\n      <td>1</td>\n      <td>1</td>\n    </tr>\n    <tr>\n      <th>36</th>\n      <td>1</td>\n      <td>1.0</td>\n      <td>1.0</td>\n      <td>1</td>\n      <td>1</td>\n    </tr>\n    <tr>\n      <th>37</th>\n      <td>1</td>\n      <td>1.0</td>\n      <td>0.0</td>\n      <td>1</td>\n      <td>0</td>\n    </tr>\n    <tr>\n      <th>38</th>\n      <td>1</td>\n      <td>1.0</td>\n      <td>0.0</td>\n      <td>1</td>\n      <td>1</td>\n    </tr>\n    <tr>\n      <th>39</th>\n      <td>1</td>\n      <td>1.0</td>\n      <td>1.0</td>\n      <td>0</td>\n      <td>1</td>\n    </tr>\n    <tr>\n      <th>40</th>\n      <td>1</td>\n      <td>0.0</td>\n      <td>1.0</td>\n      <td>1</td>\n      <td>1</td>\n    </tr>\n    <tr>\n      <th>41</th>\n      <td>1</td>\n      <td>1.0</td>\n      <td>1.0</td>\n      <td>1</td>\n      <td>1</td>\n    </tr>\n    <tr>\n      <th>42</th>\n      <td>1</td>\n      <td>1.0</td>\n      <td>0.0</td>\n      <td>1</td>\n      <td>0</td>\n    </tr>\n    <tr>\n      <th>43</th>\n      <td>1</td>\n      <td>1.0</td>\n      <td>0.0</td>\n      <td>1</td>\n      <td>1</td>\n    </tr>\n    <tr>\n      <th>44</th>\n      <td>1</td>\n      <td>1.0</td>\n      <td>1.0</td>\n      <td>0</td>\n      <td>1</td>\n    </tr>\n  </tbody>\n</table>\n</div>"
     },
     "execution_count": 14,
     "metadata": {},
     "output_type": "execute_result"
    }
   ],
   "source": [
    "new_df = df.fillna(method=\"ffill\")\n",
    "new_df"
   ],
   "metadata": {
    "collapsed": false,
    "ExecuteTime": {
     "end_time": "2023-12-20T02:58:02.257770654Z",
     "start_time": "2023-12-20T02:58:02.145723898Z"
    }
   }
  },
  {
   "cell_type": "code",
   "execution_count": 15,
   "outputs": [
    {
     "data": {
      "text/plain": "    f1  f2  f3   f4  t\n0    1   0   1    1  1\n1    1   1   1    1  1\n2    1   1   0    1  0\n3    1   1   0    1  1\n4    1   1   1    0  1\n5    1   0   1    1  1\n6    1   1   1    1  1\n7    1   1   0    1  0\n8    1   1   0    1  1\n9    1   1   1    0  1\n10   1   0   1    1  1\n11   1   1   1    1  1\n12   1   1   0    1  0\n13   1   1   0    1  1\n14   1   1   1    0  1\n15   1   0   1    1  1\n16   1   1   1    1  1\n17   1   1   0    1  0\n18   1   1   0    1  1\n19   1   1   1    0  1\n20   1   0   1    1  1\n21   1   1   1    1  1\n22   1   1   0    1  0\n23   1   1   0    1  1\n24   1   1   1    0  1\n25   1   0   1    1  1\n26   1   1   1    1  1\n27   1   1   0    1  0\n28   1   1   0    1  1\n29   1   1   1    0  1\n30   1   0   1    1  1\n31   1   1   1    1  1\n32   1   1   0    1  0\n33   1   1   0    1  1\n34   1   1   1    0  1\n35   1   0   1    1  1\n36   1   1   1    1  1\n37   1   1   0    1  0\n38   1   1   0    1  1\n39   1   1   1    0  1\n40   1   0   1    1  1\n41   1   1   1    1  1\n42   1   1   0    1  0\n43   1   1   0    1  1\n44   1   1   1    0  1",
      "text/html": "<div>\n<style scoped>\n    .dataframe tbody tr th:only-of-type {\n        vertical-align: middle;\n    }\n\n    .dataframe tbody tr th {\n        vertical-align: top;\n    }\n\n    .dataframe thead th {\n        text-align: right;\n    }\n</style>\n<table border=\"1\" class=\"dataframe\">\n  <thead>\n    <tr style=\"text-align: right;\">\n      <th></th>\n      <th>f1</th>\n      <th>f2</th>\n      <th>f3</th>\n      <th>f4</th>\n      <th>t</th>\n    </tr>\n  </thead>\n  <tbody>\n    <tr>\n      <th>0</th>\n      <td>1</td>\n      <td>0</td>\n      <td>1</td>\n      <td>1</td>\n      <td>1</td>\n    </tr>\n    <tr>\n      <th>1</th>\n      <td>1</td>\n      <td>1</td>\n      <td>1</td>\n      <td>1</td>\n      <td>1</td>\n    </tr>\n    <tr>\n      <th>2</th>\n      <td>1</td>\n      <td>1</td>\n      <td>0</td>\n      <td>1</td>\n      <td>0</td>\n    </tr>\n    <tr>\n      <th>3</th>\n      <td>1</td>\n      <td>1</td>\n      <td>0</td>\n      <td>1</td>\n      <td>1</td>\n    </tr>\n    <tr>\n      <th>4</th>\n      <td>1</td>\n      <td>1</td>\n      <td>1</td>\n      <td>0</td>\n      <td>1</td>\n    </tr>\n    <tr>\n      <th>5</th>\n      <td>1</td>\n      <td>0</td>\n      <td>1</td>\n      <td>1</td>\n      <td>1</td>\n    </tr>\n    <tr>\n      <th>6</th>\n      <td>1</td>\n      <td>1</td>\n      <td>1</td>\n      <td>1</td>\n      <td>1</td>\n    </tr>\n    <tr>\n      <th>7</th>\n      <td>1</td>\n      <td>1</td>\n      <td>0</td>\n      <td>1</td>\n      <td>0</td>\n    </tr>\n    <tr>\n      <th>8</th>\n      <td>1</td>\n      <td>1</td>\n      <td>0</td>\n      <td>1</td>\n      <td>1</td>\n    </tr>\n    <tr>\n      <th>9</th>\n      <td>1</td>\n      <td>1</td>\n      <td>1</td>\n      <td>0</td>\n      <td>1</td>\n    </tr>\n    <tr>\n      <th>10</th>\n      <td>1</td>\n      <td>0</td>\n      <td>1</td>\n      <td>1</td>\n      <td>1</td>\n    </tr>\n    <tr>\n      <th>11</th>\n      <td>1</td>\n      <td>1</td>\n      <td>1</td>\n      <td>1</td>\n      <td>1</td>\n    </tr>\n    <tr>\n      <th>12</th>\n      <td>1</td>\n      <td>1</td>\n      <td>0</td>\n      <td>1</td>\n      <td>0</td>\n    </tr>\n    <tr>\n      <th>13</th>\n      <td>1</td>\n      <td>1</td>\n      <td>0</td>\n      <td>1</td>\n      <td>1</td>\n    </tr>\n    <tr>\n      <th>14</th>\n      <td>1</td>\n      <td>1</td>\n      <td>1</td>\n      <td>0</td>\n      <td>1</td>\n    </tr>\n    <tr>\n      <th>15</th>\n      <td>1</td>\n      <td>0</td>\n      <td>1</td>\n      <td>1</td>\n      <td>1</td>\n    </tr>\n    <tr>\n      <th>16</th>\n      <td>1</td>\n      <td>1</td>\n      <td>1</td>\n      <td>1</td>\n      <td>1</td>\n    </tr>\n    <tr>\n      <th>17</th>\n      <td>1</td>\n      <td>1</td>\n      <td>0</td>\n      <td>1</td>\n      <td>0</td>\n    </tr>\n    <tr>\n      <th>18</th>\n      <td>1</td>\n      <td>1</td>\n      <td>0</td>\n      <td>1</td>\n      <td>1</td>\n    </tr>\n    <tr>\n      <th>19</th>\n      <td>1</td>\n      <td>1</td>\n      <td>1</td>\n      <td>0</td>\n      <td>1</td>\n    </tr>\n    <tr>\n      <th>20</th>\n      <td>1</td>\n      <td>0</td>\n      <td>1</td>\n      <td>1</td>\n      <td>1</td>\n    </tr>\n    <tr>\n      <th>21</th>\n      <td>1</td>\n      <td>1</td>\n      <td>1</td>\n      <td>1</td>\n      <td>1</td>\n    </tr>\n    <tr>\n      <th>22</th>\n      <td>1</td>\n      <td>1</td>\n      <td>0</td>\n      <td>1</td>\n      <td>0</td>\n    </tr>\n    <tr>\n      <th>23</th>\n      <td>1</td>\n      <td>1</td>\n      <td>0</td>\n      <td>1</td>\n      <td>1</td>\n    </tr>\n    <tr>\n      <th>24</th>\n      <td>1</td>\n      <td>1</td>\n      <td>1</td>\n      <td>0</td>\n      <td>1</td>\n    </tr>\n    <tr>\n      <th>25</th>\n      <td>1</td>\n      <td>0</td>\n      <td>1</td>\n      <td>1</td>\n      <td>1</td>\n    </tr>\n    <tr>\n      <th>26</th>\n      <td>1</td>\n      <td>1</td>\n      <td>1</td>\n      <td>1</td>\n      <td>1</td>\n    </tr>\n    <tr>\n      <th>27</th>\n      <td>1</td>\n      <td>1</td>\n      <td>0</td>\n      <td>1</td>\n      <td>0</td>\n    </tr>\n    <tr>\n      <th>28</th>\n      <td>1</td>\n      <td>1</td>\n      <td>0</td>\n      <td>1</td>\n      <td>1</td>\n    </tr>\n    <tr>\n      <th>29</th>\n      <td>1</td>\n      <td>1</td>\n      <td>1</td>\n      <td>0</td>\n      <td>1</td>\n    </tr>\n    <tr>\n      <th>30</th>\n      <td>1</td>\n      <td>0</td>\n      <td>1</td>\n      <td>1</td>\n      <td>1</td>\n    </tr>\n    <tr>\n      <th>31</th>\n      <td>1</td>\n      <td>1</td>\n      <td>1</td>\n      <td>1</td>\n      <td>1</td>\n    </tr>\n    <tr>\n      <th>32</th>\n      <td>1</td>\n      <td>1</td>\n      <td>0</td>\n      <td>1</td>\n      <td>0</td>\n    </tr>\n    <tr>\n      <th>33</th>\n      <td>1</td>\n      <td>1</td>\n      <td>0</td>\n      <td>1</td>\n      <td>1</td>\n    </tr>\n    <tr>\n      <th>34</th>\n      <td>1</td>\n      <td>1</td>\n      <td>1</td>\n      <td>0</td>\n      <td>1</td>\n    </tr>\n    <tr>\n      <th>35</th>\n      <td>1</td>\n      <td>0</td>\n      <td>1</td>\n      <td>1</td>\n      <td>1</td>\n    </tr>\n    <tr>\n      <th>36</th>\n      <td>1</td>\n      <td>1</td>\n      <td>1</td>\n      <td>1</td>\n      <td>1</td>\n    </tr>\n    <tr>\n      <th>37</th>\n      <td>1</td>\n      <td>1</td>\n      <td>0</td>\n      <td>1</td>\n      <td>0</td>\n    </tr>\n    <tr>\n      <th>38</th>\n      <td>1</td>\n      <td>1</td>\n      <td>0</td>\n      <td>1</td>\n      <td>1</td>\n    </tr>\n    <tr>\n      <th>39</th>\n      <td>1</td>\n      <td>1</td>\n      <td>1</td>\n      <td>0</td>\n      <td>1</td>\n    </tr>\n    <tr>\n      <th>40</th>\n      <td>1</td>\n      <td>0</td>\n      <td>1</td>\n      <td>1</td>\n      <td>1</td>\n    </tr>\n    <tr>\n      <th>41</th>\n      <td>1</td>\n      <td>1</td>\n      <td>1</td>\n      <td>1</td>\n      <td>1</td>\n    </tr>\n    <tr>\n      <th>42</th>\n      <td>1</td>\n      <td>1</td>\n      <td>0</td>\n      <td>1</td>\n      <td>0</td>\n    </tr>\n    <tr>\n      <th>43</th>\n      <td>1</td>\n      <td>1</td>\n      <td>0</td>\n      <td>1</td>\n      <td>1</td>\n    </tr>\n    <tr>\n      <th>44</th>\n      <td>1</td>\n      <td>1</td>\n      <td>1</td>\n      <td>0</td>\n      <td>1</td>\n    </tr>\n  </tbody>\n</table>\n</div>"
     },
     "execution_count": 15,
     "metadata": {},
     "output_type": "execute_result"
    }
   ],
   "source": [
    "from imblearn.over_sampling import SMOTE, RandomOverSampler\n",
    "from sklearn.preprocessing import LabelBinarizer\n",
    "\n",
    "smote = RandomOverSampler(sampling_strategy=\"auto\")\n",
    "\n",
    "x_binary = LabelBinarizer()\n",
    "\n",
    "x = x_binary.fit_transform(new_df)\n",
    "\n",
    "x = pd.DataFrame(x, columns=[\"f1\", \"f2\", \"f3\",\" f4\", \"t\"])\n",
    "\n",
    "x"
   ],
   "metadata": {
    "collapsed": false,
    "ExecuteTime": {
     "end_time": "2023-12-20T02:58:02.271568794Z",
     "start_time": "2023-12-20T02:58:02.178997775Z"
    }
   }
  },
  {
   "cell_type": "code",
   "execution_count": 16,
   "outputs": [
    {
     "data": {
      "text/plain": "    f1  f2  f3   f4\n0    1   0   1    1\n1    1   1   1    1\n2    1   1   0    1\n3    1   1   0    1\n4    1   1   1    0\n5    1   0   1    1\n6    1   1   1    1\n7    1   1   0    1\n8    1   1   0    1\n9    1   1   1    0\n10   1   0   1    1\n11   1   1   1    1\n12   1   1   0    1\n13   1   1   0    1\n14   1   1   1    0\n15   1   0   1    1\n16   1   1   1    1\n17   1   1   0    1\n18   1   1   0    1\n19   1   1   1    0\n20   1   0   1    1\n21   1   1   1    1\n22   1   1   0    1\n23   1   1   0    1\n24   1   1   1    0\n25   1   0   1    1\n26   1   1   1    1\n27   1   1   0    1\n28   1   1   0    1\n29   1   1   1    0\n30   1   0   1    1\n31   1   1   1    1\n32   1   1   0    1\n33   1   1   0    1\n34   1   1   1    0\n35   1   0   1    1\n36   1   1   1    1\n37   1   1   0    1\n38   1   1   0    1\n39   1   1   1    0\n40   1   0   1    1\n41   1   1   1    1\n42   1   1   0    1\n43   1   1   0    1\n44   1   1   1    0",
      "text/html": "<div>\n<style scoped>\n    .dataframe tbody tr th:only-of-type {\n        vertical-align: middle;\n    }\n\n    .dataframe tbody tr th {\n        vertical-align: top;\n    }\n\n    .dataframe thead th {\n        text-align: right;\n    }\n</style>\n<table border=\"1\" class=\"dataframe\">\n  <thead>\n    <tr style=\"text-align: right;\">\n      <th></th>\n      <th>f1</th>\n      <th>f2</th>\n      <th>f3</th>\n      <th>f4</th>\n    </tr>\n  </thead>\n  <tbody>\n    <tr>\n      <th>0</th>\n      <td>1</td>\n      <td>0</td>\n      <td>1</td>\n      <td>1</td>\n    </tr>\n    <tr>\n      <th>1</th>\n      <td>1</td>\n      <td>1</td>\n      <td>1</td>\n      <td>1</td>\n    </tr>\n    <tr>\n      <th>2</th>\n      <td>1</td>\n      <td>1</td>\n      <td>0</td>\n      <td>1</td>\n    </tr>\n    <tr>\n      <th>3</th>\n      <td>1</td>\n      <td>1</td>\n      <td>0</td>\n      <td>1</td>\n    </tr>\n    <tr>\n      <th>4</th>\n      <td>1</td>\n      <td>1</td>\n      <td>1</td>\n      <td>0</td>\n    </tr>\n    <tr>\n      <th>5</th>\n      <td>1</td>\n      <td>0</td>\n      <td>1</td>\n      <td>1</td>\n    </tr>\n    <tr>\n      <th>6</th>\n      <td>1</td>\n      <td>1</td>\n      <td>1</td>\n      <td>1</td>\n    </tr>\n    <tr>\n      <th>7</th>\n      <td>1</td>\n      <td>1</td>\n      <td>0</td>\n      <td>1</td>\n    </tr>\n    <tr>\n      <th>8</th>\n      <td>1</td>\n      <td>1</td>\n      <td>0</td>\n      <td>1</td>\n    </tr>\n    <tr>\n      <th>9</th>\n      <td>1</td>\n      <td>1</td>\n      <td>1</td>\n      <td>0</td>\n    </tr>\n    <tr>\n      <th>10</th>\n      <td>1</td>\n      <td>0</td>\n      <td>1</td>\n      <td>1</td>\n    </tr>\n    <tr>\n      <th>11</th>\n      <td>1</td>\n      <td>1</td>\n      <td>1</td>\n      <td>1</td>\n    </tr>\n    <tr>\n      <th>12</th>\n      <td>1</td>\n      <td>1</td>\n      <td>0</td>\n      <td>1</td>\n    </tr>\n    <tr>\n      <th>13</th>\n      <td>1</td>\n      <td>1</td>\n      <td>0</td>\n      <td>1</td>\n    </tr>\n    <tr>\n      <th>14</th>\n      <td>1</td>\n      <td>1</td>\n      <td>1</td>\n      <td>0</td>\n    </tr>\n    <tr>\n      <th>15</th>\n      <td>1</td>\n      <td>0</td>\n      <td>1</td>\n      <td>1</td>\n    </tr>\n    <tr>\n      <th>16</th>\n      <td>1</td>\n      <td>1</td>\n      <td>1</td>\n      <td>1</td>\n    </tr>\n    <tr>\n      <th>17</th>\n      <td>1</td>\n      <td>1</td>\n      <td>0</td>\n      <td>1</td>\n    </tr>\n    <tr>\n      <th>18</th>\n      <td>1</td>\n      <td>1</td>\n      <td>0</td>\n      <td>1</td>\n    </tr>\n    <tr>\n      <th>19</th>\n      <td>1</td>\n      <td>1</td>\n      <td>1</td>\n      <td>0</td>\n    </tr>\n    <tr>\n      <th>20</th>\n      <td>1</td>\n      <td>0</td>\n      <td>1</td>\n      <td>1</td>\n    </tr>\n    <tr>\n      <th>21</th>\n      <td>1</td>\n      <td>1</td>\n      <td>1</td>\n      <td>1</td>\n    </tr>\n    <tr>\n      <th>22</th>\n      <td>1</td>\n      <td>1</td>\n      <td>0</td>\n      <td>1</td>\n    </tr>\n    <tr>\n      <th>23</th>\n      <td>1</td>\n      <td>1</td>\n      <td>0</td>\n      <td>1</td>\n    </tr>\n    <tr>\n      <th>24</th>\n      <td>1</td>\n      <td>1</td>\n      <td>1</td>\n      <td>0</td>\n    </tr>\n    <tr>\n      <th>25</th>\n      <td>1</td>\n      <td>0</td>\n      <td>1</td>\n      <td>1</td>\n    </tr>\n    <tr>\n      <th>26</th>\n      <td>1</td>\n      <td>1</td>\n      <td>1</td>\n      <td>1</td>\n    </tr>\n    <tr>\n      <th>27</th>\n      <td>1</td>\n      <td>1</td>\n      <td>0</td>\n      <td>1</td>\n    </tr>\n    <tr>\n      <th>28</th>\n      <td>1</td>\n      <td>1</td>\n      <td>0</td>\n      <td>1</td>\n    </tr>\n    <tr>\n      <th>29</th>\n      <td>1</td>\n      <td>1</td>\n      <td>1</td>\n      <td>0</td>\n    </tr>\n    <tr>\n      <th>30</th>\n      <td>1</td>\n      <td>0</td>\n      <td>1</td>\n      <td>1</td>\n    </tr>\n    <tr>\n      <th>31</th>\n      <td>1</td>\n      <td>1</td>\n      <td>1</td>\n      <td>1</td>\n    </tr>\n    <tr>\n      <th>32</th>\n      <td>1</td>\n      <td>1</td>\n      <td>0</td>\n      <td>1</td>\n    </tr>\n    <tr>\n      <th>33</th>\n      <td>1</td>\n      <td>1</td>\n      <td>0</td>\n      <td>1</td>\n    </tr>\n    <tr>\n      <th>34</th>\n      <td>1</td>\n      <td>1</td>\n      <td>1</td>\n      <td>0</td>\n    </tr>\n    <tr>\n      <th>35</th>\n      <td>1</td>\n      <td>0</td>\n      <td>1</td>\n      <td>1</td>\n    </tr>\n    <tr>\n      <th>36</th>\n      <td>1</td>\n      <td>1</td>\n      <td>1</td>\n      <td>1</td>\n    </tr>\n    <tr>\n      <th>37</th>\n      <td>1</td>\n      <td>1</td>\n      <td>0</td>\n      <td>1</td>\n    </tr>\n    <tr>\n      <th>38</th>\n      <td>1</td>\n      <td>1</td>\n      <td>0</td>\n      <td>1</td>\n    </tr>\n    <tr>\n      <th>39</th>\n      <td>1</td>\n      <td>1</td>\n      <td>1</td>\n      <td>0</td>\n    </tr>\n    <tr>\n      <th>40</th>\n      <td>1</td>\n      <td>0</td>\n      <td>1</td>\n      <td>1</td>\n    </tr>\n    <tr>\n      <th>41</th>\n      <td>1</td>\n      <td>1</td>\n      <td>1</td>\n      <td>1</td>\n    </tr>\n    <tr>\n      <th>42</th>\n      <td>1</td>\n      <td>1</td>\n      <td>0</td>\n      <td>1</td>\n    </tr>\n    <tr>\n      <th>43</th>\n      <td>1</td>\n      <td>1</td>\n      <td>0</td>\n      <td>1</td>\n    </tr>\n    <tr>\n      <th>44</th>\n      <td>1</td>\n      <td>1</td>\n      <td>1</td>\n      <td>0</td>\n    </tr>\n  </tbody>\n</table>\n</div>"
     },
     "execution_count": 16,
     "metadata": {},
     "output_type": "execute_result"
    }
   ],
   "source": [
    "x_source = x.drop([\"t\"], axis=1)\n",
    "x_source"
   ],
   "metadata": {
    "collapsed": false,
    "ExecuteTime": {
     "end_time": "2023-12-20T02:58:02.371271416Z",
     "start_time": "2023-12-20T02:58:02.265027849Z"
    }
   }
  },
  {
   "cell_type": "code",
   "execution_count": 17,
   "outputs": [
    {
     "name": "stdout",
     "output_type": "stream",
     "text": [
      "0     1\n",
      "1     1\n",
      "2     0\n",
      "3     1\n",
      "4     1\n",
      "5     1\n",
      "6     1\n",
      "7     0\n",
      "8     1\n",
      "9     1\n",
      "10    1\n",
      "11    1\n",
      "12    0\n",
      "13    1\n",
      "14    1\n",
      "15    1\n",
      "16    1\n",
      "17    0\n",
      "18    1\n",
      "19    1\n",
      "20    1\n",
      "21    1\n",
      "22    0\n",
      "23    1\n",
      "24    1\n",
      "25    1\n",
      "26    1\n",
      "27    0\n",
      "28    1\n",
      "29    1\n",
      "30    1\n",
      "31    1\n",
      "32    0\n",
      "33    1\n",
      "34    1\n",
      "35    1\n",
      "36    1\n",
      "37    0\n",
      "38    1\n",
      "39    1\n",
      "40    1\n",
      "41    1\n",
      "42    0\n",
      "43    1\n",
      "44    1\n",
      "Name: t, dtype: int64\n",
      "(45,)\n"
     ]
    }
   ],
   "source": [
    "y = x['t']\n",
    "print(y)\n",
    "print(y.shape)"
   ],
   "metadata": {
    "collapsed": false,
    "ExecuteTime": {
     "end_time": "2023-12-20T02:58:02.373991906Z",
     "start_time": "2023-12-20T02:58:02.265602823Z"
    }
   }
  },
  {
   "cell_type": "code",
   "execution_count": 18,
   "outputs": [
    {
     "name": "stdout",
     "output_type": "stream",
     "text": [
      "    f1  f2  f3   f4  t\n",
      "0    1   0   1    1  1\n",
      "1    1   1   1    1  1\n",
      "2    1   1   0    1  0\n",
      "3    1   1   0    1  1\n",
      "4    1   1   1    0  1\n",
      "..  ..  ..  ..  ... ..\n",
      "67   1   1   0    1  0\n",
      "68   1   1   0    1  0\n",
      "69   1   1   0    1  0\n",
      "70   1   1   0    1  0\n",
      "71   1   1   0    1  0\n",
      "\n",
      "[72 rows x 5 columns]\n"
     ]
    }
   ],
   "source": [
    "x_smote, y_smote = smote.fit_resample(x, y)\n",
    "print(x_smote)"
   ],
   "metadata": {
    "collapsed": false,
    "ExecuteTime": {
     "end_time": "2023-12-20T02:58:02.413015183Z",
     "start_time": "2023-12-20T02:58:02.266094311Z"
    }
   }
  },
  {
   "cell_type": "code",
   "execution_count": 19,
   "outputs": [
    {
     "name": "stderr",
     "output_type": "stream",
     "text": [
      "/home/irlfdyh/Documents/UNIVERSITY/STUDY/S7/TUGAS-PROYEK-DATA-MINING/playground/venv/lib/python3.10/site-packages/sklearn/neural_network/_multilayer_perceptron.py:691: ConvergenceWarning: Stochastic Optimizer: Maximum iterations (100) reached and the optimization hasn't converged yet.\n",
      "  warnings.warn(\n"
     ]
    },
    {
     "name": "stdout",
     "output_type": "stream",
     "text": [
      "(29,)\n",
      "  Classifier                                         prediction  accuracy\n",
      "0         NB                                    MultinomialNB()       1.0\n",
      "1       K-NN                KNeighborsClassifier(n_neighbors=3)       1.0\n",
      "2         RF  (DecisionTreeClassifier(max_depth=3, max_featu...       1.0\n",
      "3         DT                           DecisionTreeClassifier()       1.0\n",
      "4        MLP                        MLPClassifier(max_iter=100)       1.0\n",
      "5        SVM  SVC(decision_function_shape='ovo', kernel='lin...       1.0\n"
     ]
    },
    {
     "name": "stderr",
     "output_type": "stream",
     "text": [
      "/tmp/ipykernel_53785/340189073.py:60: FutureWarning: Use \"auto\" to set automatic grayscale colors. From v0.14.0, \"gray\" will default to matplotlib's definition.\n",
      "  sns.stripplot(x='Classifier', y='accuracy', data=cv_df,\n"
     ]
    },
    {
     "data": {
      "text/plain": "<Axes: xlabel='Classifier', ylabel='accuracy'>"
     },
     "execution_count": 19,
     "metadata": {},
     "output_type": "execute_result"
    },
    {
     "data": {
      "text/plain": "<Figure size 640x480 with 1 Axes>",
      "image/png": "[encoded data removed]"
     },
     "metadata": {},
     "output_type": "display_data"
    }
   ],
   "source": [
    "import pandas as pd    \n",
    "import numpy as np\n",
    "import nltk\n",
    "import string\n",
    "from sklearn.model_selection import train_test_split\n",
    "from sklearn.naive_bayes import MultinomialNB\n",
    "from sklearn.neighbors import KNeighborsClassifier\n",
    "from sklearn.tree import DecisionTreeClassifier\n",
    "from sklearn.ensemble import RandomForestClassifier\n",
    "from sklearn.linear_model import LogisticRegression\n",
    "from sklearn.svm import SVC\n",
    "from sklearn.neural_network import MLPClassifier\n",
    "from sklearn.metrics import classification_report , accuracy_score , confusion_matrix\n",
    "import seaborn as sns\n",
    "import matplotlib.pyplot as plt\n",
    "\n",
    "\n",
    "x_train, x_test, y_train, y_test = train_test_split(x_smote, y_smote, test_size = 0.4, random_state = 1)\n",
    "\n",
    "NaiveBayes = MultinomialNB().fit(x_train, np.ravel(y_train, order='C'))\n",
    "Knn       = KNeighborsClassifier(n_neighbors = 3).fit(x_train, np.ravel(y_train, order='C'))\n",
    "RandomForest = RandomForestClassifier(n_estimators=50, max_depth=3).fit(x_train, np.ravel(y_train, order='C'))\n",
    "DTree =    DecisionTreeClassifier().fit(x_train, np.ravel(y_train, order='C'))\n",
    "MultiLP =   MLPClassifier(max_iter= 100).fit(x_train, np.ravel(y_train, order='C'))\n",
    "SuppVM =  SVC(gamma='scale', decision_function_shape='ovo', kernel = 'linear').fit(x_train, np.ravel(y_train, order='C'))\n",
    "\n",
    "models = [\n",
    "    NaiveBayes,\n",
    "    Knn,      \n",
    "    RandomForest, \n",
    "    DTree, \n",
    "    MultiLP, \n",
    "    SuppVM, \n",
    "] \n",
    "dlist = [\n",
    "    'NB',\n",
    "    'K-NN',      \n",
    "    'RF', \n",
    "    'DT', \n",
    "    'MLP', \n",
    "    'SVM', \n",
    "]\n",
    "\n",
    "i = 0\n",
    "print(y_test.shape)\n",
    "entries = []\n",
    "for model in models:\n",
    "  prediction = model.predict(x_test)\n",
    "  accuracies = accuracy_score(y_test, prediction)\n",
    "  nameS = dlist[i]\n",
    "  entries.append((nameS, model, accuracies))\n",
    "  i = i + 1\n",
    "\n",
    "cv_df = pd.DataFrame(entries, columns=['Classifier','prediction','accuracy'])\n",
    "cv_df.to_csv('akurasi.csv')\n",
    "print(cv_df)\n",
    "\n",
    "\n",
    "sns.boxplot(x='Classifier', y='accuracy', data=cv_df)\n",
    "sns.stripplot(x='Classifier', y='accuracy', data=cv_df, \n",
    "              size=8, jitter=True, edgecolor=\"gray\", linewidth=2)"
   ],
   "metadata": {
    "collapsed": false,
    "ExecuteTime": {
     "start_time": "2023-12-20T02:58:02.309135939Z"
    }
   }
  },
  {
   "cell_type": "code",
   "execution_count": 20,
   "outputs": [
    {
     "name": "stdout",
     "output_type": "stream",
     "text": [
      "(43, 5)\n",
      "(29, 5)\n",
      "(43,)\n",
      "(29,)\n",
      "    f1  f2  f3   f4  t\n",
      "19   1   1   1    0  1\n",
      "55   1   1   0    1  0\n",
      "10   1   0   1    1  1\n",
      "68   1   1   0    1  0\n",
      "53   1   1   0    1  0\n",
      "26   1   1   1    1  1\n",
      "39   1   1   1    0  1\n",
      "54   1   1   0    1  0\n",
      "33   1   1   0    1  1\n",
      "59   1   1   0    1  0\n",
      "40   1   0   1    1  1\n",
      "31   1   1   1    1  1\n",
      "2    1   1   0    1  0\n",
      "49   1   1   0    1  0\n",
      "35   1   0   1    1  1\n",
      "38   1   1   0    1  1\n",
      "15   1   0   1    1  1\n",
      "56   1   1   0    1  0\n",
      "34   1   1   1    0  1\n",
      "66   1   1   0    1  0\n",
      "58   1   1   0    1  0\n",
      "70   1   1   0    1  0\n",
      "57   1   1   0    1  0\n",
      "27   1   1   0    1  0\n",
      "51   1   1   0    1  0\n",
      "46   1   1   0    1  0\n",
      "63   1   1   0    1  0\n",
      "60   1   1   0    1  0\n",
      "21   1   1   1    1  1\n",
      "              precision    recall  f1-score   support\n",
      "\n",
      "           0       1.00      1.00      1.00        17\n",
      "           1       1.00      1.00      1.00        12\n",
      "\n",
      "    accuracy                           1.00        29\n",
      "   macro avg       1.00      1.00      1.00        29\n",
      "weighted avg       1.00      1.00      1.00        29\n",
      "\n",
      "[1 0 1 0 0 1 1 0 1 0 1 1 0 0 1 1 1 0 1 0 0 0 0 0 0 0 0 0 1]\n"
     ]
    }
   ],
   "source": [
    "print(x_train.shape)\n",
    "print(x_test.shape)\n",
    "print(y_train.shape)\n",
    "print(y_test.shape)\n",
    "\n",
    "print(x_test)\n",
    "\n",
    "prediction = MultinomialNB().fit(x_train, y_train)\n",
    "\n",
    "prediction_result = prediction.predict(x_test)\n",
    "\n",
    "print(classification_report(y_test, prediction_result))\n",
    "print(prediction_result)"
   ],
   "metadata": {
    "collapsed": false,
    "ExecuteTime": {
     "start_time": "2023-12-20T02:58:03.473380822Z"
    }
   }
  },
  {
   "cell_type": "code",
   "execution_count": 21,
   "outputs": [
    {
     "name": "stdout",
     "output_type": "stream",
     "text": [
      "1.0\n"
     ]
    }
   ],
   "source": [
    "import pickle\n",
    "\n",
    "prediction = NaiveBayes.predict(x_test)\n",
    "accuracies = accuracy_score(y_test, prediction)\n",
    "print(accuracies)\n",
    "\n",
    "filename = 'model/mv_model.pkl'\n",
    "pickle.dump(NaiveBayes, open(filename, 'wb'))"
   ],
   "metadata": {
    "collapsed": false,
    "ExecuteTime": {
     "end_time": "2023-12-20T02:58:03.768836579Z",
     "start_time": "2023-12-20T02:58:03.640182436Z"
    }
   }
  }
 ],
 "metadata": {
  "kernelspec": {
   "display_name": "Python 3",
   "language": "python",
   "name": "python3"
  },
  "language_info": {
   "name": "python",
   "version": "3.10.12"
  },
  "orig_nbformat": 4
 },
 "nbformat": 4,
 "nbformat_minor": 2
}
