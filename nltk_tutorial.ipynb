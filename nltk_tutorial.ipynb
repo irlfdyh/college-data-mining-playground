{
 "cells": [
  {
   "cell_type": "code",
   "execution_count": 28,
   "outputs": [
    {
     "name": "stderr",
     "output_type": "stream",
     "text": [
      "[nltk_data] Downloading package wordnet to /home/irlfdyh/nltk_data...\n",
      "[nltk_data]   Package wordnet is already up-to-date!\n"
     ]
    },
    {
     "data": {
      "text/plain": "True"
     },
     "execution_count": 28,
     "metadata": {},
     "output_type": "execute_result"
    }
   ],
   "source": [
    "import nltk\n",
    "\n",
    "nltk.download('wordnet')"
   ],
   "metadata": {
    "collapsed": false,
    "ExecuteTime": {
     "end_time": "2023-10-18T04:22:45.966974507Z",
     "start_time": "2023-10-18T04:22:45.860840690Z"
    }
   },
   "id": "2220520b6c7ffbbe"
  },
  {
   "cell_type": "code",
   "execution_count": null,
   "outputs": [],
   "source": [
    "from nltk.stem.porter import PorterStemmer\n",
    "\n",
    "pst = PorterStemmer()\n",
    "\n",
    "words_to_stem = [\"writes\", \"writing\", \"written\", \"wrote\"]\n",
    "\n",
    "for words in words_to_stem:\n",
    "    print(words + \" : \" + pst.stem(words))"
   ],
   "metadata": {
    "collapsed": false
   },
   "id": "9bc06b06ff7c36c7"
  },
  {
   "cell_type": "code",
   "execution_count": 30,
   "outputs": [
    {
     "name": "stdout",
     "output_type": "stream",
     "text": [
      "writes : write\n",
      "writing : write\n",
      "written : write\n",
      "wrote : write\n"
     ]
    }
   ],
   "source": [
    "# word lemmatize text\n",
    "from nltk.stem.wordnet import WordNetLemmatizer\n",
    "\n",
    "words_to_lem = [\"writes\", \"writing\", \"written\", \"wrote\"]\n",
    "\n",
    "word_lem = WordNetLemmatizer()\n",
    "\n",
    "for words in words_to_lem:\n",
    "     print(words + \" : \" + word_lem.lemmatize(words, 'v'))\n"
   ],
   "metadata": {
    "collapsed": false,
    "ExecuteTime": {
     "end_time": "2023-10-18T04:22:45.981271149Z",
     "start_time": "2023-10-18T04:22:45.901994355Z"
    }
   },
   "id": "4129a2d428f56b8f"
  },
  {
   "cell_type": "code",
   "execution_count": 31,
   "outputs": [
    {
     "data": {
      "text/plain": "['guido@python.org', 'guido@google.com']"
     },
     "execution_count": 31,
     "metadata": {},
     "output_type": "execute_result"
    }
   ],
   "source": [
    "# entity masking\n",
    "\n",
    "import re\n",
    "\n",
    "email = re.compile('\\w+@\\w+\\.[a-z]{3}')\n",
    "text = \"To email Guido, try guido@python.org or the older address guido@google.com\"\n",
    "email.findall(text)"
   ],
   "metadata": {
    "collapsed": false,
    "ExecuteTime": {
     "end_time": "2023-10-18T04:22:45.981628900Z",
     "start_time": "2023-10-18T04:22:45.902167987Z"
    }
   },
   "id": "fa8e66d1c42f3256"
  },
  {
   "cell_type": "code",
   "execution_count": 32,
   "outputs": [
    {
     "data": {
      "text/plain": "'To email Guido, try _email_ or the older address _email_'"
     },
     "execution_count": 32,
     "metadata": {},
     "output_type": "execute_result"
    }
   ],
   "source": [
    "# entity masking\n",
    "\n",
    "text_mask = email.sub('_email_', text)\n",
    "\n",
    "text_mask"
   ],
   "metadata": {
    "collapsed": false,
    "ExecuteTime": {
     "end_time": "2023-10-18T04:22:45.981947331Z",
     "start_time": "2023-10-18T04:22:45.902325725Z"
    }
   },
   "id": "39afc81290ffe749"
  },
  {
   "cell_type": "code",
   "execution_count": 33,
   "outputs": [
    {
     "data": {
      "text/plain": "{'the': 7,\n 'quick': 6,\n 'brown': 0,\n 'fox': 2,\n 'jumped': 3,\n 'over': 5,\n 'lazy': 4,\n 'dog': 1}"
     },
     "execution_count": 33,
     "metadata": {},
     "output_type": "execute_result"
    }
   ],
   "source": [
    "# vector\n",
    "\n",
    "from sklearn.feature_extraction.text import CountVectorizer\n",
    "\n",
    "text = [\"The quick brown fox jumped over the lazy dog.\"]\n",
    "\n",
    "vectorizer = CountVectorizer()\n",
    "\n",
    "vectorizer.fit(text)\n",
    "\n",
    "vectorizer.vocabulary_"
   ],
   "metadata": {
    "collapsed": false,
    "ExecuteTime": {
     "end_time": "2023-10-18T04:22:45.983663234Z",
     "start_time": "2023-10-18T04:22:45.909074707Z"
    }
   },
   "id": "3c5e75e169f0f6dc"
  },
  {
   "cell_type": "code",
   "execution_count": 34,
   "outputs": [
    {
     "name": "stdout",
     "output_type": "stream",
     "text": [
      "(1, 8)\n",
      "<class 'scipy.sparse._csr.csr_matrix'>\n",
      "[[1 1 1 1 1 1 1 2]]\n"
     ]
    }
   ],
   "source": [
    "vector = vectorizer.transform(text)\n",
    "\n",
    "print(vector.shape)\n",
    "print(type(vector))\n",
    "print(vector.toarray())"
   ],
   "metadata": {
    "collapsed": false,
    "ExecuteTime": {
     "end_time": "2023-10-18T04:22:45.984132394Z",
     "start_time": "2023-10-18T04:22:45.949588694Z"
    }
   },
   "id": "27852e68cb14a3ec"
  },
  {
   "cell_type": "code",
   "execution_count": 35,
   "outputs": [
    {
     "name": "stdout",
     "output_type": "stream",
     "text": [
      "(1, 8)\n",
      "<class 'scipy.sparse._csr.csr_matrix'>\n",
      "[[1 1 1 1 1 1 1 2]]\n",
      "{'the': 7, 'quick': 6, 'brown': 0, 'fox': 2, 'jumped': 3, 'over': 5, 'lazy': 4, 'dog': 1}\n"
     ]
    }
   ],
   "source": [
    "vectorizer2 = CountVectorizer()\n",
    "vector2 = vectorizer2.fit_transform(text)\n",
    "\n",
    "print(vector.shape)\n",
    "print(type(vector))\n",
    "print(vector.toarray())\n",
    "print(vectorizer2.vocabulary_)"
   ],
   "metadata": {
    "collapsed": false,
    "ExecuteTime": {
     "end_time": "2023-10-18T04:22:45.984524667Z",
     "start_time": "2023-10-18T04:22:45.949790616Z"
    }
   },
   "id": "2e91c9d9aaa6be29"
  },
  {
   "cell_type": "code",
   "execution_count": 36,
   "outputs": [
    {
     "data": {
      "text/plain": "Text(0, 0.5, 'Number of Spam Texts')"
     },
     "execution_count": 36,
     "metadata": {},
     "output_type": "execute_result"
    },
    {
     "data": {
      "text/plain": "<Figure size 640x480 with 1 Axes>",
      "image/png": "[encoded data removed]"
     },
     "metadata": {},
     "output_type": "display_data"
    }
   ],
   "source": [
    "import pandas as pd\n",
    "\n",
    "data = pd.read_csv('dataset/spam.csv', encoding='latin-1')\n",
    "data.columns = ['label', 'text', 't1', 't2', 't3']\n",
    "\n",
    "import matplotlib.pyplot as plt\n",
    "\n",
    "spam_count = data.groupby('label').count()\n",
    "plt.bar(spam_count.index.values, spam_count['text'])\n",
    "plt.xlabel('Spam Label')\n",
    "plt.ylabel('Number of Spam Texts')"
   ],
   "metadata": {
    "collapsed": false,
    "ExecuteTime": {
     "end_time": "2023-10-18T04:22:46.165521868Z",
     "start_time": "2023-10-18T04:22:45.949947493Z"
    }
   },
   "id": "bdaf652df00d7155"
  },
  {
   "cell_type": "code",
   "execution_count": 37,
   "outputs": [
    {
     "data": {
      "text/plain": "[('free', [228, 48, 180, 132]),\n ('call', [557, 215, 342, 127]),\n ('txt', [149, 13, 136, 123]),\n ('claim', [106, 0, 106, 106]),\n ('mobile', [124, 15, 109, 94]),\n ('&', [107, 9, 98, 89]),\n ('reply', [127, 26, 101, 75]),\n ('now!', [75, 5, 70, 65]),\n ('won', [64, 0, 64, 64]),\n ('nokia', [67, 3, 64, 61]),\n ('stop', [118, 29, 89, 60]),\n ('prize', [58, 0, 58, 58]),\n ('text', [175, 63, 112, 49]),\n ('win', [68, 10, 58, 48]),\n ('cash', [65, 9, 56, 47]),\n ('contact', [68, 12, 56, 44]),\n ('service', [52, 4, 48, 44]),\n ('urgent!', [42, 0, 42, 42]),\n ('tone', [40, 0, 40, 40]),\n ('awarded', [38, 0, 38, 38]),\n ('latest', [37, 1, 36, 35]),\n ('å£1000', [33, 0, 33, 33]),\n ('per', [56, 12, 44, 32]),\n ('draw', [42, 5, 37, 32]),\n ('customer', [49, 9, 40, 31]),\n ('150ppm', [30, 0, 30, 30]),\n ('guaranteed', [29, 0, 29, 29]),\n ('chat', [49, 10, 39, 29]),\n ('receive', [37, 4, 33, 29]),\n ('our', [142, 57, 85, 28]),\n ('shows', [35, 4, 31, 27]),\n ('entry', [26, 0, 26, 26]),\n ('video', [30, 2, 28, 26]),\n ('po', [32, 3, 29, 26]),\n ('box', [35, 5, 30, 25]),\n ('ringtone', [24, 0, 24, 24]),\n ('tones', [24, 0, 24, 24]),\n ('4*', [24, 0, 24, 24]),\n ('valid', [23, 0, 23, 23]),\n ('500', [23, 0, 23, 23]),\n ('16', [25, 1, 24, 23]),\n ('selected', [27, 2, 25, 23]),\n ('camera', [28, 3, 25, 22]),\n ('16+', [22, 0, 22, 22]),\n ('-', [88, 33, 55, 22]),\n ('holiday', [40, 9, 31, 22]),\n ('å£100', [22, 0, 22, 22]),\n ('18', [22, 0, 22, 22]),\n ('weekly', [22, 0, 22, 22]),\n ('network', [25, 2, 23, 21]),\n ('8007', [21, 0, 21, 21]),\n ('free!', [20, 0, 20, 20]),\n ('150p', [20, 0, 20, 20]),\n ('å£2000', [20, 0, 20, 20]),\n ('delivery', [20, 0, 20, 20]),\n ('bonus', [20, 0, 20, 20]),\n ('guaranteed.', [19, 0, 19, 19]),\n ('attempt', [23, 2, 21, 19]),\n ('86688', [19, 0, 19, 19]),\n ('å£5000', [19, 0, 19, 19]),\n ('landline.', [19, 0, 19, 19]),\n ('t&cs', [19, 0, 19, 19]),\n ('å£500', [18, 0, 18, 18]),\n ('vouchers', [18, 0, 18, 18]),\n ('land', [18, 0, 18, 18]),\n ('await', [20, 1, 19, 18]),\n ('750', [18, 0, 18, 18]),\n ('orange', [24, 3, 21, 18]),\n ('prize.', [17, 0, 17, 17]),\n ('mob', [17, 0, 17, 17]),\n ('å£1.50', [17, 0, 17, 17]),\n ('12hrs', [17, 0, 17, 17]),\n ('collect', [27, 5, 22, 17]),\n ('line.', [17, 0, 17, 17]),\n ('no:', [17, 0, 17, 17]),\n ('expires', [17, 0, 17, 17]),\n ('pobox', [16, 0, 16, 16]),\n ('update', [22, 3, 19, 16]),\n ('1st', [36, 10, 26, 16]),\n ('statement', [16, 0, 16, 16]),\n ('unsubscribe', [16, 0, 16, 16]),\n ('cost', [28, 6, 22, 16]),\n ('points.', [16, 0, 16, 16]),\n ('private!', [16, 0, 16, 16]),\n ('identifier', [16, 0, 16, 16]),\n ('mobileupd8', [16, 0, 16, 16]),\n ('08000839402', [15, 0, 15, 15]),\n ('18+', [15, 0, 15, 15]),\n ('dating', [15, 0, 15, 15]),\n ('sae', [15, 0, 15, 15]),\n ('collection.', [15, 0, 15, 15]),\n ('pounds', [19, 2, 17, 15]),\n ('operator', [14, 0, 14, 14]),\n ('code:', [14, 0, 14, 14]),\n ('08000930705', [14, 0, 14, 14]),\n ('live', [38, 12, 26, 14]),\n ('å£250', [14, 0, 14, 14]),\n ('final', [18, 2, 16, 14]),\n ('chance', [32, 9, 23, 14]),\n ('code', [16, 1, 15, 14])]"
     },
     "execution_count": 37,
     "metadata": {},
     "output_type": "execute_result"
    }
   ],
   "source": [
    "# Feature Classification & Manual Classification\n",
    "\n",
    "s = ' '.join(data.text)\n",
    "\n",
    "str_list = s.lower().split()\n",
    "unique_words = set(str_list)\n",
    "\n",
    "dictwords = dict()\n",
    "for words in unique_words:\n",
    "     dictwords[words] = [str_list.count(words)]\n",
    "     \n",
    "dataham = data[data.label == \"ham\"]\n",
    "dataspam = data[data.label == \"spam\"]\n",
    "\n",
    "sham = ' '.join(dataham.text)\n",
    "sspam = ' '.join(dataspam.text)\n",
    "sham_list = sham.lower().split()\n",
    "sspam_list = sspam.lower().split()\n",
    "\n",
    "for words in unique_words:\n",
    "    iham = sham_list.count(words)\n",
    "    ispam = sspam_list.count(words)\n",
    "    dictwords[words].append(iham)\n",
    "    dictwords[words].append(ispam)\n",
    "    dictwords[words].append(ispam-iham)\n",
    "    \n",
    "sortfreq = sorted(dictwords.items(), key=lambda x: x[1][3], reverse=True)\n",
    "dictfreq = sortfreq[:100]\n",
    "len(dictfreq)\n",
    "dictfreq"
   ],
   "metadata": {
    "collapsed": false,
    "ExecuteTime": {
     "end_time": "2023-10-18T04:23:25.716714628Z",
     "start_time": "2023-10-18T04:22:46.165355439Z"
    }
   },
   "id": "335b6ce7aa032a7d"
  },
  {
   "cell_type": "code",
   "execution_count": 38,
   "outputs": [
    {
     "name": "stdout",
     "output_type": "stream",
     "text": [
      "MultinominalNB Accuracy:  0.978494623655914\n"
     ]
    },
    {
     "name": "stderr",
     "output_type": "stream",
     "text": [
      "/home/irlfdyh/Documents/UNIVERSITY/STUDY/S7/TUGAS-PROYEK-DATA-MINING/playground/venv/lib/python3.10/site-packages/sklearn/feature_extraction/text.py:525: UserWarning: The parameter 'token_pattern' will not be used since 'tokenizer' is not None'\n",
      "  warnings.warn(\n"
     ]
    }
   ],
   "source": [
    "# feature extraction & Machine Learning\n",
    "\n",
    "from sklearn.feature_extraction.text import CountVectorizer\n",
    "from nltk.tokenize import RegexpTokenizer\n",
    "\n",
    "token = RegexpTokenizer(r'[a-zA-Z0-9]+')\n",
    "cv = CountVectorizer(lowercase=True, stop_words='english', ngram_range=(1, 1), tokenizer=token.tokenize)\n",
    "text_counts = cv.fit_transform(data['text'])\n",
    "\n",
    "from sklearn.model_selection import train_test_split\n",
    "x_train, x_test, y_train, y_test = train_test_split(text_counts, data['label'], test_size=0.1, random_state=1)\n",
    "\n",
    "from sklearn.naive_bayes import MultinomialNB\n",
    "from sklearn import metrics\n",
    "\n",
    "clf = MultinomialNB().fit(x_train, y_train)\n",
    "predicted = clf.predict(x_test)\n",
    "print(\"MultinominalNB Accuracy: \", metrics.accuracy_score(y_test, predicted))"
   ],
   "metadata": {
    "collapsed": false,
    "ExecuteTime": {
     "end_time": "2023-10-18T04:23:25.878412681Z",
     "start_time": "2023-10-18T04:23:25.721988100Z"
    }
   },
   "id": "1db5b6aab068a72a"
  }
 ],
 "metadata": {
  "kernelspec": {
   "display_name": "Python 3",
   "language": "python",
   "name": "python3"
  },
  "language_info": {
   "codemirror_mode": {
    "name": "ipython",
    "version": 2
   },
   "file_extension": ".py",
   "mimetype": "text/x-python",
   "name": "python",
   "nbconvert_exporter": "python",
   "pygments_lexer": "ipython2",
   "version": "2.7.6"
  }
 },
 "nbformat": 4,
 "nbformat_minor": 5
}
