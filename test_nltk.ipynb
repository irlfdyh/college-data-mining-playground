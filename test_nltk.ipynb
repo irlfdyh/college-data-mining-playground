{
 "cells": [
  {
   "cell_type": "code",
   "execution_count": 79,
   "id": "initial_id",
   "metadata": {
    "collapsed": true,
    "ExecuteTime": {
     "end_time": "2023-10-18T02:34:45.174999097Z",
     "start_time": "2023-10-18T02:34:45.087982796Z"
    }
   },
   "outputs": [],
   "source": [
    "# Text preprocessing program\n",
    "# Wednesday, Oct 18 2023 08.14\n",
    "# Author Irshal Firdeansyah\n",
    "\n",
    "# import natural language package\n",
    "import nltk"
   ]
  },
  {
   "cell_type": "code",
   "execution_count": 80,
   "outputs": [
    {
     "data": {
      "text/plain": "'3.8.1'"
     },
     "execution_count": 80,
     "metadata": {},
     "output_type": "execute_result"
    }
   ],
   "source": [
    "nltk.__version__"
   ],
   "metadata": {
    "collapsed": false,
    "ExecuteTime": {
     "end_time": "2023-10-18T02:34:45.175349725Z",
     "start_time": "2023-10-18T02:34:45.132028070Z"
    }
   },
   "id": "79734b8821e51c89"
  },
  {
   "cell_type": "code",
   "execution_count": 81,
   "outputs": [
    {
     "name": "stderr",
     "output_type": "stream",
     "text": [
      "[nltk_data] Downloading package punkt to /home/irlfdyh/nltk_data...\n",
      "[nltk_data]   Package punkt is already up-to-date!\n"
     ]
    },
    {
     "data": {
      "text/plain": "True"
     },
     "execution_count": 81,
     "metadata": {},
     "output_type": "execute_result"
    }
   ],
   "source": [
    "# download \n",
    "nltk.download(\"punkt\")"
   ],
   "metadata": {
    "collapsed": false,
    "ExecuteTime": {
     "end_time": "2023-10-18T02:34:45.176035559Z",
     "start_time": "2023-10-18T02:34:45.132422128Z"
    }
   },
   "id": "6fa5127c1aed0841"
  },
  {
   "cell_type": "code",
   "execution_count": 82,
   "outputs": [],
   "source": [
    "text = \"Amalia berkendaraan motor pergi ke Unikom\""
   ],
   "metadata": {
    "collapsed": false,
    "ExecuteTime": {
     "end_time": "2023-10-18T02:34:45.176503313Z",
     "start_time": "2023-10-18T02:34:45.138426033Z"
    }
   },
   "id": "677fe575b65bb6a9"
  },
  {
   "cell_type": "code",
   "execution_count": 83,
   "outputs": [
    {
     "data": {
      "text/plain": "'amalia berkendaraan motor pergi ke unikom'"
     },
     "execution_count": 83,
     "metadata": {},
     "output_type": "execute_result"
    }
   ],
   "source": [
    "# case folding phase\n",
    "lower_text = text.lower()\n",
    "\n",
    "lower_text"
   ],
   "metadata": {
    "collapsed": false,
    "ExecuteTime": {
     "end_time": "2023-10-18T02:34:45.211836101Z",
     "start_time": "2023-10-18T02:34:45.149485108Z"
    }
   },
   "id": "be697bc29da6d07a"
  },
  {
   "cell_type": "code",
   "execution_count": 84,
   "outputs": [
    {
     "data": {
      "text/plain": "'amalia kendara motor pergi ke unikom'"
     },
     "execution_count": 84,
     "metadata": {},
     "output_type": "execute_result"
    }
   ],
   "source": [
    "# stemming phase\n",
    "from Sastrawi.Stemmer.StemmerFactory import StemmerFactory\n",
    "\n",
    "factory = StemmerFactory()\n",
    "\n",
    "stemmer = factory.create_stemmer()\n",
    "\n",
    "stemmed_text = stemmer.stem(lower_text)\n",
    "\n",
    "stemmed_text"
   ],
   "metadata": {
    "collapsed": false,
    "ExecuteTime": {
     "end_time": "2023-10-18T02:34:45.786056071Z",
     "start_time": "2023-10-18T02:34:45.192019434Z"
    }
   },
   "id": "ba67276edccb1eb3"
  },
  {
   "cell_type": "code",
   "execution_count": 85,
   "outputs": [
    {
     "name": "stderr",
     "output_type": "stream",
     "text": [
      "[nltk_data] Downloading package stopwords to\n",
      "[nltk_data]     /home/irlfdyh/nltk_data...\n",
      "[nltk_data]   Package stopwords is already up-to-date!\n"
     ]
    },
    {
     "data": {
      "text/plain": "['amalia', 'kendara', 'motor', 'pergi', 'unikom']"
     },
     "execution_count": 85,
     "metadata": {},
     "output_type": "execute_result"
    }
   ],
   "source": [
    "# stopword and tokenize phase\n",
    "from nltk.tokenize import sent_tokenize, word_tokenize\n",
    "from nltk.corpus import stopwords\n",
    "\n",
    "# download stopwords asset\n",
    "nltk.download('stopwords')\n",
    "\n",
    "tokens = word_tokenize(stemmed_text)\n",
    "\n",
    "list_stopword = set(stopwords.words('indonesian'))\n",
    "\n",
    "removed = []\n",
    "\n",
    "for token in tokens:\n",
    "    if token not in list_stopword:\n",
    "        removed.append(token)\n",
    "        \n",
    "removed\n",
    "        \n",
    "        "
   ],
   "metadata": {
    "collapsed": false,
    "ExecuteTime": {
     "end_time": "2023-10-18T02:34:45.857093873Z",
     "start_time": "2023-10-18T02:34:45.777630690Z"
    }
   },
   "id": "e5703c758ff1a75b"
  },
  {
   "cell_type": "code",
   "execution_count": 86,
   "outputs": [
    {
     "data": {
      "text/plain": "array([[1, 0, 0, 0, 0],\n       [0, 1, 0, 0, 0],\n       [0, 0, 1, 0, 0],\n       [0, 0, 0, 1, 0],\n       [0, 0, 0, 0, 1]])"
     },
     "execution_count": 86,
     "metadata": {},
     "output_type": "execute_result"
    }
   ],
   "source": [
    "# vectorization phase\n",
    "\n",
    "from sklearn.feature_extraction.text import CountVectorizer\n",
    "\n",
    "vector = CountVectorizer()\n",
    "\n",
    "vector_text = vector.fit_transform(removed)\n",
    "\n",
    "vector_text.toarray()"
   ],
   "metadata": {
    "collapsed": false,
    "ExecuteTime": {
     "end_time": "2023-10-18T02:34:45.883269033Z",
     "start_time": "2023-10-18T02:34:45.796293345Z"
    }
   },
   "id": "4e01d7199d8c54a4"
  }
 ],
 "metadata": {
  "kernelspec": {
   "display_name": "Python 3",
   "language": "python",
   "name": "python3"
  },
  "language_info": {
   "codemirror_mode": {
    "name": "ipython",
    "version": 2
   },
   "file_extension": ".py",
   "mimetype": "text/x-python",
   "name": "python",
   "nbconvert_exporter": "python",
   "pygments_lexer": "ipython2",
   "version": "2.7.6"
  }
 },
 "nbformat": 4,
 "nbformat_minor": 5
}
